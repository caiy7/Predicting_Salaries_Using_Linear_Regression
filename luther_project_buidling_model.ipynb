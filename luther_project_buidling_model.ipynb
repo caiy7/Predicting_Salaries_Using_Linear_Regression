{
 "cells": [
  {
   "cell_type": "code",
   "execution_count": 2,
   "metadata": {},
   "outputs": [],
   "source": [
    "import pickle\n",
    "import pandas as pd\n",
    "import numpy as np\n",
    "\n",
    "\n",
    "%matplotlib inline\n",
    "import re\n",
    "import matplotlib.pyplot as plt\n",
    "import seaborn as sns\n",
    "from sklearn.linear_model import LinearRegression, Lasso, Ridge\n",
    "from sklearn.model_selection import train_test_split, KFold\n",
    "from sklearn.feature_extraction.text import CountVectorizer\n",
    "from sklearn.preprocessing import StandardScaler, PolynomialFeatures\n",
    "\n"
   ]
  },
  {
   "cell_type": "markdown",
   "metadata": {},
   "source": [
    "Building the model"
   ]
  },
  {
   "cell_type": "markdown",
   "metadata": {},
   "source": [
    "Load test split set"
   ]
  },
  {
   "cell_type": "code",
   "execution_count": 7,
   "metadata": {},
   "outputs": [],
   "source": [
    "with open('split_data.pkl', 'rb') as f:\n",
    "    split_data = pickle.load(f)\n",
    "(X, X_holdout, y, y_holdout) = split_data"
   ]
  },
  {
   "cell_type": "markdown",
   "metadata": {},
   "source": [
    "Get rid of all the NaN"
   ]
  },
  {
   "cell_type": "code",
   "execution_count": 8,
   "metadata": {},
   "outputs": [],
   "source": [
    "X.Skills.fillna('',inplace=True)\n",
    "X_holdout.Skills.fillna('',inplace=True)\n",
    "X['product'].fillna('',inplace=True)\n",
    "X_holdout['product'].fillna('',inplace=True)"
   ]
  },
  {
   "cell_type": "markdown",
   "metadata": {},
   "source": [
    "Make a train validation set for test purpose. Take out 15% for validation"
   ]
  },
  {
   "cell_type": "code",
   "execution_count": 9,
   "metadata": {},
   "outputs": [],
   "source": [
    "X_train, X_val, y_train, y_val = train_test_split(X, y, test_size=0.1765, random_state=21)"
   ]
  },
  {
   "cell_type": "code",
   "execution_count": 10,
   "metadata": {},
   "outputs": [],
   "source": [
    "from sklearn.metrics import mean_squared_error\n",
    "def RMSE(actual, predicted):\n",
    "    return np.sqrt(mean_squared_error(actual,predicted))"
   ]
  },
  {
   "cell_type": "code",
   "execution_count": 11,
   "metadata": {},
   "outputs": [],
   "source": [
    "def test_model(model, X, y, X_val, y_val, alpha=None):\n",
    "    '''test different sklearn models.\n",
    "    '''\n",
    "    if alpha:\n",
    "        lm = model(alpha)\n",
    "    else:\n",
    "        lm = model()\n",
    "    lm.fit(X,y)\n",
    "    print(alpha,  'val R^2: %.5f' % lm.score(X_val, y_val))\n",
    "    return (lm, lm.score(X_val, y_val))"
   ]
  },
  {
   "cell_type": "code",
   "execution_count": 12,
   "metadata": {},
   "outputs": [],
   "source": [
    "def cross_validation_v2(X, y, model_list=None, alphas=None, cv=5):\n",
    "    if not alphas:\n",
    "        alphas = [0.001, 0.01, 0.1, 1, 10, 100, 1000]\n",
    "    if not model_list:\n",
    "        model_list = [LinearRegression, Ridge, Lasso]\n",
    "        \n",
    "    kf = KFold(n_splits=cv, shuffle=True)\n",
    "    \n",
    "    if type(X) == pd.core.frame.DataFrame:\n",
    "        X = X.values\n",
    "\n",
    "    for model in model_list:\n",
    "        print('model:', model)\n",
    "        r2 = []\n",
    "        if model != LinearRegression:\n",
    "            scaler = StandardScaler()\n",
    "            #X_train = scaler.fit_transform(X_train)\n",
    "            #X_val = scaler.transform(X_val)\n",
    "            for a in alphas:\n",
    "                r2 = []\n",
    "                for train_ind, val_ind in kf.split(X,y):\n",
    "                    X_train, y_train = X[train_ind], y.iloc[train_ind]\n",
    "                    X_val, y_val = X[val_ind], y.iloc[val_ind]\n",
    "                    \n",
    "                    scaler = StandardScaler()\n",
    "                    X_train = scaler.fit_transform(X_train)\n",
    "                    X_val = scaler.transform(X_val)\n",
    "                    \n",
    "                    _, score = test_model(model, X_train, y_train, X_val, y_val, alpha=a)\n",
    "                    r2.append(score)\n",
    "                print('lambda %f, mean cv r^2: %.3f +- %.3f'%(a, np.mean(r2),np.std(r2)))\n",
    "        else:       \n",
    "            for train_ind, val_ind in kf.split(X,y):\n",
    "                X_train, y_train = X[train_ind], y.iloc[train_ind]\n",
    "                X_val, y_val = X[val_ind], y.iloc[val_ind]\n",
    "\n",
    "                _, score = test_model(model, X_train, y_train, X_val, y_val, alpha=None)\n",
    "                r2.append(score)\n",
    "            print('mean cv r^2: %.3f +- %.3f'%(np.mean(r2),np.std(r2)))\n",
    "   \n",
    "          "
   ]
  },
  {
   "cell_type": "markdown",
   "metadata": {},
   "source": [
    "#### Try simple linear regression"
   ]
  },
  {
   "cell_type": "code",
   "execution_count": 13,
   "metadata": {},
   "outputs": [],
   "source": [
    "lm_features = ['401k','experience', 'free_food','insurance', 'visa', 'employees', 'investors',\n",
    "       'open_jobs',  'size_', 'size_1-10', 'size_11-50',\n",
    "       'size_201-500', 'size_51-200', 'degree_bs', 'degree_ms', 'degree_phd',\n",
    "       'equity_low', 'equity_high',  'type_Contract',\n",
    "       'type_Full Time', 'type_Internship']"
   ]
  },
  {
   "cell_type": "code",
   "execution_count": 14,
   "metadata": {},
   "outputs": [
    {
     "name": "stdout",
     "output_type": "stream",
     "text": [
      "Linear Regression val R^2: %.3f 0.20378864661161356\n"
     ]
    }
   ],
   "source": [
    "lm = LinearRegression()\n",
    "lm.fit(X_train[lm_features], y_train)\n",
    "print('Linear Regression val R^2: %.3f', lm.score(X_val[lm_features], y_val))"
   ]
  },
  {
   "cell_type": "code",
   "execution_count": 15,
   "metadata": {},
   "outputs": [
    {
     "name": "stdout",
     "output_type": "stream",
     "text": [
      "401k 9451.753644101815\n",
      "experience 4145.921380761541\n",
      "free_food -11517.663121257032\n",
      "insurance 5054.488687769132\n",
      "visa 7682.604603581771\n",
      "employees 820.1254874299684\n",
      "investors 348.42970502343996\n",
      "open_jobs -819.6649758715998\n",
      "size_ -3196.198959631798\n",
      "size_1-10 -7611.644107421838\n",
      "size_11-50 340.29888528425727\n",
      "size_201-500 15447.5711130369\n",
      "size_51-200 -4980.026931267296\n",
      "degree_bs 3948.729276341954\n",
      "degree_ms 8571.76700440337\n",
      "degree_phd 16684.574350458097\n",
      "equity_low -2786.643441728797\n",
      "equity_high -311.2043309123974\n",
      "type_Contract -25587.199732269793\n",
      "type_Full Time -9414.308928208604\n",
      "type_Internship -57283.79565599041\n"
     ]
    }
   ],
   "source": [
    "for i, j in zip(X_train[lm_features].columns, lm.coef_):\n",
    "    print(i, j)"
   ]
  },
  {
   "cell_type": "code",
   "execution_count": 16,
   "metadata": {},
   "outputs": [
    {
     "data": {
      "image/png": "[encoded data removed]",
      "text/plain": [
       "<matplotlib.figure.Figure at 0x1a130756a0>"
      ]
     },
     "metadata": {},
     "output_type": "display_data"
    }
   ],
   "source": [
    "y_pred = lm.predict(X_val[lm_features])\n",
    "sns.set()\n",
    "sns.jointplot(y_pred,y_val, kind='regplot');"
   ]
  },
  {
   "cell_type": "code",
   "execution_count": 18,
   "metadata": {},
   "outputs": [
    {
     "data": {
      "image/png": "[encoded data removed]",
      "text/plain": [
       "<matplotlib.figure.Figure at 0x1a1cb17518>"
      ]
     },
     "metadata": {},
     "output_type": "display_data"
    }
   ],
   "source": [
    "plt.figure(figsize = (8, 6))\n",
    "plt.scatter(y_pred, y_val-y_pred, alpha=0.3)\n",
    "plt.plot(y_pred, [0]*len(y_pred), 'r')\n",
    "plt.title('Residual vs Prediction', fontsize=24)\n",
    "plt.xticks(fontsize='x-large')\n",
    "plt.yticks(fontsize='x-large')\n",
    "plt.xlabel('Prediction', fontsize='xx-large')\n",
    "plt.ylabel('Residual',fontsize='xx-large');"
   ]
  },
  {
   "cell_type": "code",
   "execution_count": 19,
   "metadata": {},
   "outputs": [
    {
     "name": "stdout",
     "output_type": "stream",
     "text": [
      "34882.799332781986\n"
     ]
    }
   ],
   "source": [
    "print(RMSE(y_val, y_pred))"
   ]
  },
  {
   "cell_type": "markdown",
   "metadata": {},
   "source": [
    "Try to see if regularization help improve the model"
   ]
  },
  {
   "cell_type": "code",
   "execution_count": 20,
   "metadata": {},
   "outputs": [
    {
     "name": "stdout",
     "output_type": "stream",
     "text": [
      "model: <class 'sklearn.linear_model.base.LinearRegression'>\n",
      "None val R^2: 0.22121\n",
      "None val R^2: 0.21483\n",
      "None val R^2: 0.12499\n",
      "None val R^2: 0.22628\n",
      "None val R^2: 0.25472\n",
      "mean cv r^2: 0.208 +- 0.044\n",
      "model: <class 'sklearn.linear_model.ridge.Ridge'>\n",
      "0.01 val R^2: 0.21989\n",
      "0.01 val R^2: 0.18400\n",
      "0.01 val R^2: 0.18746\n",
      "0.01 val R^2: 0.25141\n",
      "0.01 val R^2: 0.26574\n",
      "lambda 0.010000, mean cv r^2: 0.222 +- 0.033\n",
      "0.1 val R^2: 0.07456\n",
      "0.1 val R^2: 0.31637\n",
      "0.1 val R^2: 0.22649\n",
      "0.1 val R^2: 0.24283\n",
      "0.1 val R^2: 0.21527\n",
      "lambda 0.100000, mean cv r^2: 0.215 +- 0.079\n",
      "1 val R^2: 0.25270\n",
      "1 val R^2: 0.18664\n",
      "1 val R^2: 0.19690\n",
      "1 val R^2: 0.18122\n",
      "1 val R^2: 0.24198\n",
      "lambda 1.000000, mean cv r^2: 0.212 +- 0.030\n",
      "10 val R^2: 0.24105\n",
      "10 val R^2: 0.12344\n",
      "10 val R^2: 0.26965\n",
      "10 val R^2: 0.17851\n",
      "10 val R^2: 0.28096\n",
      "lambda 10.000000, mean cv r^2: 0.219 +- 0.059\n",
      "100 val R^2: 0.26089\n",
      "100 val R^2: 0.27480\n",
      "100 val R^2: 0.20687\n",
      "100 val R^2: 0.17898\n",
      "100 val R^2: 0.16046\n",
      "lambda 100.000000, mean cv r^2: 0.216 +- 0.045\n",
      "1000 val R^2: 0.16559\n",
      "1000 val R^2: 0.24042\n",
      "1000 val R^2: 0.18705\n",
      "1000 val R^2: 0.20201\n",
      "1000 val R^2: 0.20364\n",
      "lambda 1000.000000, mean cv r^2: 0.200 +- 0.025\n",
      "model: <class 'sklearn.linear_model.coordinate_descent.Lasso'>\n",
      "0.01 val R^2: 0.29339\n",
      "0.01 val R^2: 0.19706\n",
      "0.01 val R^2: 0.14601\n",
      "0.01 val R^2: 0.25434\n",
      "0.01 val R^2: 0.16394\n",
      "lambda 0.010000, mean cv r^2: 0.211 +- 0.055\n",
      "0.1 val R^2: 0.26900\n"
     ]
    },
    {
     "name": "stderr",
     "output_type": "stream",
     "text": [
      "/anaconda3/lib/python3.6/site-packages/sklearn/linear_model/coordinate_descent.py:491: ConvergenceWarning: Objective did not converge. You might want to increase the number of iterations. Fitting data with very small alpha may cause precision problems.\n",
      "  ConvergenceWarning)\n"
     ]
    },
    {
     "name": "stdout",
     "output_type": "stream",
     "text": [
      "0.1 val R^2: 0.16613\n",
      "0.1 val R^2: 0.22758\n",
      "0.1 val R^2: 0.24574\n",
      "0.1 val R^2: 0.18025\n",
      "lambda 0.100000, mean cv r^2: 0.218 +- 0.039\n",
      "1 val R^2: 0.26047\n",
      "1 val R^2: 0.15219\n",
      "1 val R^2: 0.23451\n",
      "1 val R^2: 0.16435\n",
      "1 val R^2: 0.24455\n",
      "lambda 1.000000, mean cv r^2: 0.211 +- 0.044\n",
      "10 val R^2: 0.08073\n",
      "10 val R^2: 0.19858\n",
      "10 val R^2: 0.30207\n",
      "10 val R^2: 0.16720\n",
      "10 val R^2: 0.21525\n",
      "lambda 10.000000, mean cv r^2: 0.193 +- 0.072\n",
      "100 val R^2: 0.18347\n",
      "100 val R^2: 0.26084\n",
      "100 val R^2: 0.22898\n",
      "100 val R^2: 0.20319\n",
      "100 val R^2: 0.21713\n",
      "lambda 100.000000, mean cv r^2: 0.219 +- 0.026\n",
      "1000 val R^2: 0.22148\n",
      "1000 val R^2: 0.19333\n",
      "1000 val R^2: 0.15390\n",
      "1000 val R^2: 0.28739\n",
      "1000 val R^2: 0.18798\n",
      "lambda 1000.000000, mean cv r^2: 0.209 +- 0.045\n"
     ]
    }
   ],
   "source": [
    "cross_validation_v2(X[lm_features],y, [LinearRegression, Ridge, Lasso], [0.01, 0.1, 1, 10, 100, 1000], cv=5)"
   ]
  },
  {
   "cell_type": "markdown",
   "metadata": {},
   "source": [
    "Regularization doens't improve R2. It seems like that the model is too biased.\n",
    "#### Try log transform of the skewed features"
   ]
  },
  {
   "cell_type": "code",
   "execution_count": 21,
   "metadata": {},
   "outputs": [],
   "source": [
    "def log_transform(df, colname_list):\n",
    "    df_log = df.copy()\n",
    "    for col in colname_list:\n",
    "        colname = col + '_log'\n",
    "        df_log[colname] = np.log(df[col])\n",
    "    df_log.drop(columns = colname_list, inplace=True)   \n",
    "    return df_log"
   ]
  },
  {
   "cell_type": "code",
   "execution_count": 22,
   "metadata": {},
   "outputs": [],
   "source": [
    "X_log = log_transform(X[lm_features], ['employees', 'investors'] )\n",
    "X_log['experience_log'] = np.log(X['experience']+1) #Some values in experience is zero"
   ]
  },
  {
   "cell_type": "code",
   "execution_count": 23,
   "metadata": {},
   "outputs": [
    {
     "name": "stdout",
     "output_type": "stream",
     "text": [
      "model: <class 'sklearn.linear_model.base.LinearRegression'>\n",
      "None val R^2: 0.19476\n",
      "None val R^2: 0.29505\n",
      "None val R^2: 0.26733\n",
      "None val R^2: 0.24580\n",
      "None val R^2: 0.15803\n",
      "mean cv r^2: 0.232 +- 0.050\n",
      "model: <class 'sklearn.linear_model.ridge.Ridge'>\n",
      "0.01 val R^2: 0.15739\n",
      "0.01 val R^2: 0.24998\n",
      "0.01 val R^2: 0.27680\n",
      "0.01 val R^2: 0.21676\n",
      "0.01 val R^2: 0.24812\n",
      "lambda 0.010000, mean cv r^2: 0.230 +- 0.041\n",
      "0.1 val R^2: 0.25068\n",
      "0.1 val R^2: 0.20924\n",
      "0.1 val R^2: 0.26221\n",
      "0.1 val R^2: 0.17443\n",
      "0.1 val R^2: 0.25504\n",
      "lambda 0.100000, mean cv r^2: 0.230 +- 0.033\n",
      "1 val R^2: 0.29135\n",
      "1 val R^2: 0.24612\n",
      "1 val R^2: 0.21768\n",
      "1 val R^2: 0.22540\n",
      "1 val R^2: 0.21039\n",
      "lambda 1.000000, mean cv r^2: 0.238 +- 0.029\n",
      "10 val R^2: 0.19999\n",
      "10 val R^2: 0.25955\n",
      "10 val R^2: 0.30217\n",
      "10 val R^2: 0.21019\n",
      "10 val R^2: 0.23955\n",
      "lambda 10.000000, mean cv r^2: 0.242 +- 0.037\n",
      "100 val R^2: 0.31988\n",
      "100 val R^2: 0.26933\n",
      "100 val R^2: 0.22400\n",
      "100 val R^2: 0.25057\n",
      "100 val R^2: 0.13985\n",
      "lambda 100.000000, mean cv r^2: 0.241 +- 0.059\n",
      "1000 val R^2: 0.19669\n",
      "1000 val R^2: 0.17348\n",
      "1000 val R^2: 0.25421\n",
      "1000 val R^2: 0.22635\n",
      "1000 val R^2: 0.18828\n",
      "lambda 1000.000000, mean cv r^2: 0.208 +- 0.029\n",
      "model: <class 'sklearn.linear_model.coordinate_descent.Lasso'>\n",
      "0.01 val R^2: 0.19666\n",
      "0.01 val R^2: 0.26573\n",
      "0.01 val R^2: 0.31327\n",
      "0.01 val R^2: 0.18664\n",
      "0.01 val R^2: 0.23057\n",
      "lambda 0.010000, mean cv r^2: 0.239 +- 0.047\n",
      "0.1 val R^2: 0.32088\n",
      "0.1 val R^2: 0.15040\n"
     ]
    },
    {
     "name": "stderr",
     "output_type": "stream",
     "text": [
      "/anaconda3/lib/python3.6/site-packages/sklearn/linear_model/coordinate_descent.py:491: ConvergenceWarning: Objective did not converge. You might want to increase the number of iterations. Fitting data with very small alpha may cause precision problems.\n",
      "  ConvergenceWarning)\n"
     ]
    },
    {
     "name": "stdout",
     "output_type": "stream",
     "text": [
      "0.1 val R^2: 0.26103\n",
      "0.1 val R^2: 0.22108\n",
      "0.1 val R^2: 0.24085\n",
      "lambda 0.100000, mean cv r^2: 0.239 +- 0.055\n",
      "1 val R^2: 0.26527\n",
      "1 val R^2: 0.23451\n",
      "1 val R^2: 0.19970\n",
      "1 val R^2: 0.24633\n",
      "1 val R^2: 0.23587\n",
      "lambda 1.000000, mean cv r^2: 0.236 +- 0.021\n",
      "10 val R^2: 0.19750\n",
      "10 val R^2: 0.19644\n",
      "10 val R^2: 0.29834\n",
      "10 val R^2: 0.26101\n",
      "10 val R^2: 0.23175\n",
      "lambda 10.000000, mean cv r^2: 0.237 +- 0.039\n",
      "100 val R^2: 0.23208\n",
      "100 val R^2: 0.24181\n",
      "100 val R^2: 0.14723\n",
      "100 val R^2: 0.28533\n",
      "100 val R^2: 0.23521\n",
      "lambda 100.000000, mean cv r^2: 0.228 +- 0.045\n",
      "1000 val R^2: 0.24742\n",
      "1000 val R^2: 0.22567\n",
      "1000 val R^2: 0.21185\n",
      "1000 val R^2: 0.23895\n",
      "1000 val R^2: 0.23582\n",
      "lambda 1000.000000, mean cv r^2: 0.232 +- 0.012\n"
     ]
    }
   ],
   "source": [
    "cross_validation_v2(X_log,y, [LinearRegression, Ridge, Lasso], [0.01, 0.1, 1, 10, 100, 1000], cv=5)"
   ]
  },
  {
   "cell_type": "markdown",
   "metadata": {},
   "source": [
    "Log Transformation improved the model a little bit, but not impressive.\n",
    "#### Try add interaction to the model"
   ]
  },
  {
   "cell_type": "code",
   "execution_count": 25,
   "metadata": {},
   "outputs": [],
   "source": [
    "interactions = PolynomialFeatures(degree=2, interaction_only=True)\n",
    "X_interaction = interactions.fit_transform(X[lm_features])"
   ]
  },
  {
   "cell_type": "code",
   "execution_count": 26,
   "metadata": {},
   "outputs": [
    {
     "name": "stdout",
     "output_type": "stream",
     "text": [
      "model: <class 'sklearn.linear_model.base.LinearRegression'>\n",
      "None val R^2: -6.31427\n",
      "None val R^2: 0.08161\n",
      "None val R^2: 0.05160\n",
      "None val R^2: -0.42615\n",
      "None val R^2: -10130.14709\n",
      "mean cv r^2: -2027.351 +- 4051.399\n",
      "model: <class 'sklearn.linear_model.ridge.Ridge'>\n",
      "100 val R^2: 0.20561\n",
      "100 val R^2: 0.15654\n",
      "100 val R^2: 0.09227\n",
      "100 val R^2: 0.14655\n",
      "100 val R^2: -4.37586\n",
      "lambda 100.000000, mean cv r^2: -0.755 +- 1.811\n",
      "500 val R^2: 0.11231\n",
      "500 val R^2: -2.60548\n",
      "500 val R^2: 0.21748\n",
      "500 val R^2: 0.17956\n",
      "500 val R^2: 0.22185\n",
      "lambda 500.000000, mean cv r^2: -0.375 +- 1.116\n",
      "600 val R^2: -1.34993\n",
      "600 val R^2: 0.27997\n",
      "600 val R^2: 0.28797\n",
      "600 val R^2: 0.20086\n",
      "600 val R^2: 0.23385\n",
      "lambda 600.000000, mean cv r^2: -0.069 +- 0.641\n",
      "700 val R^2: 0.18173\n",
      "700 val R^2: 0.23261\n",
      "700 val R^2: -0.90653\n",
      "700 val R^2: 0.20829\n",
      "700 val R^2: 0.21559\n",
      "lambda 700.000000, mean cv r^2: -0.014 +- 0.447\n",
      "1000 val R^2: 0.16560\n",
      "1000 val R^2: -0.98567\n",
      "1000 val R^2: 0.30816\n",
      "1000 val R^2: 0.15232\n",
      "1000 val R^2: 0.25523\n",
      "lambda 1000.000000, mean cv r^2: -0.021 +- 0.486\n",
      "2000 val R^2: 0.24843\n",
      "2000 val R^2: 0.21674\n",
      "2000 val R^2: 0.16550\n",
      "2000 val R^2: 0.26330\n",
      "2000 val R^2: -0.36265\n",
      "lambda 2000.000000, mean cv r^2: 0.106 +- 0.237\n",
      "5000 val R^2: 0.22440\n",
      "5000 val R^2: 0.15560\n",
      "5000 val R^2: 0.21454\n",
      "5000 val R^2: 0.19315\n",
      "5000 val R^2: -0.15292\n",
      "lambda 5000.000000, mean cv r^2: 0.127 +- 0.142\n",
      "7000 val R^2: 0.12431\n",
      "7000 val R^2: 0.14734\n",
      "7000 val R^2: 0.22700\n",
      "7000 val R^2: 0.20574\n",
      "7000 val R^2: -0.11530\n",
      "lambda 7000.000000, mean cv r^2: 0.118 +- 0.122\n",
      "model: <class 'sklearn.linear_model.coordinate_descent.Lasso'>\n",
      "100 val R^2: 0.06933\n"
     ]
    },
    {
     "name": "stderr",
     "output_type": "stream",
     "text": [
      "/anaconda3/lib/python3.6/site-packages/sklearn/linear_model/coordinate_descent.py:491: ConvergenceWarning: Objective did not converge. You might want to increase the number of iterations. Fitting data with very small alpha may cause precision problems.\n",
      "  ConvergenceWarning)\n"
     ]
    },
    {
     "name": "stdout",
     "output_type": "stream",
     "text": [
      "100 val R^2: 0.15471\n",
      "100 val R^2: 0.22345\n",
      "100 val R^2: -20.42326\n",
      "100 val R^2: 0.06733\n",
      "lambda 100.000000, mean cv r^2: -3.982 +- 8.221\n",
      "500 val R^2: -0.13227\n",
      "500 val R^2: -5.66276\n",
      "500 val R^2: 0.22781\n",
      "500 val R^2: 0.26348\n",
      "500 val R^2: 0.25265\n",
      "lambda 500.000000, mean cv r^2: -1.010 +- 2.331\n",
      "600 val R^2: 0.21113\n",
      "600 val R^2: 0.06682\n",
      "600 val R^2: 0.29636\n",
      "600 val R^2: 0.14333\n",
      "600 val R^2: 0.25242\n",
      "lambda 600.000000, mean cv r^2: 0.194 +- 0.081\n",
      "700 val R^2: 0.13911\n",
      "700 val R^2: 0.22194\n",
      "700 val R^2: 0.17633\n",
      "700 val R^2: 0.28174\n",
      "700 val R^2: -20.00042\n",
      "lambda 700.000000, mean cv r^2: -3.836 +- 8.082\n",
      "1000 val R^2: 0.23674\n",
      "1000 val R^2: 0.25511\n",
      "1000 val R^2: 0.11932\n",
      "1000 val R^2: 0.19503\n",
      "1000 val R^2: 0.28725\n",
      "lambda 1000.000000, mean cv r^2: 0.219 +- 0.058\n",
      "2000 val R^2: 0.29738\n",
      "2000 val R^2: 0.18538\n",
      "2000 val R^2: 0.25416\n",
      "2000 val R^2: 0.14304\n",
      "2000 val R^2: 0.21958\n",
      "lambda 2000.000000, mean cv r^2: 0.220 +- 0.053\n",
      "5000 val R^2: 0.20276\n",
      "5000 val R^2: 0.11970\n",
      "5000 val R^2: 0.14997\n",
      "5000 val R^2: 0.17741\n",
      "5000 val R^2: 0.13544\n",
      "lambda 5000.000000, mean cv r^2: 0.157 +- 0.030\n",
      "7000 val R^2: 0.11523\n",
      "7000 val R^2: 0.11022\n",
      "7000 val R^2: 0.12094\n",
      "7000 val R^2: 0.10483\n",
      "7000 val R^2: 0.11663\n",
      "lambda 7000.000000, mean cv r^2: 0.114 +- 0.006\n"
     ]
    }
   ],
   "source": [
    "cross_validation_v2(X_interaction, y, [LinearRegression, Ridge, Lasso], [100,500,600,700,1000,2000, 5000,7000], cv=5)"
   ]
  },
  {
   "cell_type": "markdown",
   "metadata": {},
   "source": [
    "Adding interaction doesn't help. \n",
    "#### Try add location as dummy variable"
   ]
  },
  {
   "cell_type": "code",
   "execution_count": 29,
   "metadata": {},
   "outputs": [],
   "source": [
    "with open('df4.pkl', 'rb') as f:\n",
    "    df4 = pickle.load(f)"
   ]
  },
  {
   "cell_type": "code",
   "execution_count": 30,
   "metadata": {},
   "outputs": [
    {
     "data": {
      "text/plain": [
       "(1601, 32)"
      ]
     },
     "execution_count": 30,
     "metadata": {},
     "output_type": "execute_result"
    }
   ],
   "source": [
    "df4.shape"
   ]
  },
  {
   "cell_type": "code",
   "execution_count": 32,
   "metadata": {},
   "outputs": [],
   "source": [
    "location_dummies = df4.location_tag.str.get_dummies(',')"
   ]
  },
  {
   "cell_type": "code",
   "execution_count": 33,
   "metadata": {},
   "outputs": [],
   "source": [
    "df5 = df4.copy()"
   ]
  },
  {
   "cell_type": "code",
   "execution_count": 34,
   "metadata": {},
   "outputs": [],
   "source": [
    "for col in location_dummies.columns:\n",
    "    colname = 'location_' + col\n",
    "    df5[colname] = location_dummies[col] "
   ]
  },
  {
   "cell_type": "code",
   "execution_count": 36,
   "metadata": {},
   "outputs": [],
   "source": [
    "df5 = df5.drop(columns = ['location_tag','average_salary'])\n",
    "\n",
    "X5 = df5.loc[X.index]\n",
    "features_to_drop = ['Skills', 'currency', 'description',  'name', 'title', 'url_j',  'concept', \n",
    "                    'product', 'tags']\n",
    "X_location = X5.drop(columns=features_to_drop)"
   ]
  },
  {
   "cell_type": "code",
   "execution_count": 37,
   "metadata": {},
   "outputs": [],
   "source": [
    "df5.Skills.fillna('', inplace=True)\n",
    "df5['product'].fillna('', inplace=True)"
   ]
  },
  {
   "cell_type": "code",
   "execution_count": 38,
   "metadata": {},
   "outputs": [
    {
     "data": {
      "text/plain": [
       "(1360, 210)"
      ]
     },
     "execution_count": 38,
     "metadata": {},
     "output_type": "execute_result"
    }
   ],
   "source": [
    "X_location.shape"
   ]
  },
  {
   "cell_type": "code",
   "execution_count": null,
   "metadata": {},
   "outputs": [],
   "source": [
    "with open('df5.pkl', 'wb') as f:\n",
    "    pickle.dump(df5, f)"
   ]
  },
  {
   "cell_type": "code",
   "execution_count": 39,
   "metadata": {},
   "outputs": [
    {
     "name": "stdout",
     "output_type": "stream",
     "text": [
      "model: <class 'sklearn.linear_model.base.LinearRegression'>\n",
      "None val R^2: -18005682319139.14062\n",
      "None val R^2: -2739851669413814.00000\n",
      "None val R^2: -7009429880132652032.00000\n",
      "None val R^2: -63970082841127032.00000\n",
      "None val R^2: -835287800783241.50000\n",
      "mean cv r^2: -1415398621625259008.000 +- 2797121424976713728.000\n",
      "model: <class 'sklearn.linear_model.ridge.Ridge'>\n",
      "0.0001 val R^2: 0.32776\n",
      "0.0001 val R^2: 0.28713\n",
      "0.0001 val R^2: 0.32560\n",
      "0.0001 val R^2: 0.40140\n",
      "0.0001 val R^2: 0.35843\n",
      "lambda 0.000100, mean cv r^2: 0.340 +- 0.038\n",
      "0.001 val R^2: 0.40926\n",
      "0.001 val R^2: 0.38423\n",
      "0.001 val R^2: 0.31302\n",
      "0.001 val R^2: 0.41161\n",
      "0.001 val R^2: 0.29678\n",
      "lambda 0.001000, mean cv r^2: 0.363 +- 0.049\n",
      "0.01 val R^2: 0.39184\n",
      "0.01 val R^2: 0.36503\n",
      "0.01 val R^2: 0.36513\n",
      "0.01 val R^2: 0.33297\n",
      "0.01 val R^2: 0.33205\n",
      "lambda 0.010000, mean cv r^2: 0.357 +- 0.023\n",
      "1 val R^2: 0.43162\n",
      "1 val R^2: 0.34340\n",
      "1 val R^2: 0.27065\n",
      "1 val R^2: 0.15305\n",
      "1 val R^2: 0.33613\n",
      "lambda 1.000000, mean cv r^2: 0.307 +- 0.092\n",
      "10 val R^2: 0.34302\n",
      "10 val R^2: 0.40632\n",
      "10 val R^2: 0.39018\n",
      "10 val R^2: 0.29115\n",
      "10 val R^2: 0.42198\n",
      "lambda 10.000000, mean cv r^2: 0.371 +- 0.048\n",
      "100 val R^2: 0.35985\n",
      "100 val R^2: 0.19936\n",
      "100 val R^2: 0.30251\n",
      "100 val R^2: 0.48061\n",
      "100 val R^2: 0.35587\n",
      "lambda 100.000000, mean cv r^2: 0.340 +- 0.091\n",
      "1000 val R^2: 0.34588\n",
      "1000 val R^2: 0.37837\n",
      "1000 val R^2: 0.32320\n",
      "1000 val R^2: 0.41869\n",
      "1000 val R^2: 0.31720\n",
      "lambda 1000.000000, mean cv r^2: 0.357 +- 0.038\n",
      "10000 val R^2: 0.09973\n",
      "10000 val R^2: 0.11342\n",
      "10000 val R^2: 0.14142\n",
      "10000 val R^2: 0.13161\n",
      "10000 val R^2: 0.15219\n",
      "lambda 10000.000000, mean cv r^2: 0.128 +- 0.019\n",
      "model: <class 'sklearn.linear_model.coordinate_descent.Lasso'>\n"
     ]
    },
    {
     "name": "stderr",
     "output_type": "stream",
     "text": [
      "/anaconda3/lib/python3.6/site-packages/sklearn/linear_model/coordinate_descent.py:491: ConvergenceWarning: Objective did not converge. You might want to increase the number of iterations. Fitting data with very small alpha may cause precision problems.\n",
      "  ConvergenceWarning)\n"
     ]
    },
    {
     "name": "stdout",
     "output_type": "stream",
     "text": [
      "0.0001 val R^2: 0.25930\n",
      "0.0001 val R^2: 0.29899\n",
      "0.0001 val R^2: 0.37017\n",
      "0.0001 val R^2: 0.43200\n",
      "0.0001 val R^2: 0.41325\n",
      "lambda 0.000100, mean cv r^2: 0.355 +- 0.066\n",
      "0.001 val R^2: 0.36516\n",
      "0.001 val R^2: 0.34062\n",
      "0.001 val R^2: 0.38956\n",
      "0.001 val R^2: 0.26768\n",
      "0.001 val R^2: 0.38718\n",
      "lambda 0.001000, mean cv r^2: 0.350 +- 0.045\n",
      "0.01 val R^2: 0.35514\n",
      "0.01 val R^2: 0.27501\n",
      "0.01 val R^2: 0.49469\n",
      "0.01 val R^2: 0.40799\n",
      "0.01 val R^2: 0.22815\n",
      "lambda 0.010000, mean cv r^2: 0.352 +- 0.095\n",
      "1 val R^2: 0.40754\n",
      "1 val R^2: 0.38976\n",
      "1 val R^2: 0.36115\n",
      "1 val R^2: 0.31865\n",
      "1 val R^2: 0.34104\n",
      "lambda 1.000000, mean cv r^2: 0.364 +- 0.032\n",
      "10 val R^2: 0.32763\n",
      "10 val R^2: 0.26754\n",
      "10 val R^2: 0.45083\n",
      "10 val R^2: 0.27028\n",
      "10 val R^2: 0.29474\n",
      "lambda 10.000000, mean cv r^2: 0.322 +- 0.068\n",
      "100 val R^2: 0.16091\n",
      "100 val R^2: 0.41294\n",
      "100 val R^2: 0.36165\n",
      "100 val R^2: 0.37718\n",
      "100 val R^2: 0.31748\n",
      "lambda 100.000000, mean cv r^2: 0.326 +- 0.088\n",
      "1000 val R^2: 0.39510\n",
      "1000 val R^2: 0.32782\n",
      "1000 val R^2: 0.38128\n",
      "1000 val R^2: 0.46018\n",
      "1000 val R^2: 0.40165\n",
      "lambda 1000.000000, mean cv r^2: 0.393 +- 0.042\n",
      "10000 val R^2: 0.03142\n",
      "10000 val R^2: 0.05848\n",
      "10000 val R^2: 0.03470\n",
      "10000 val R^2: 0.03358\n",
      "10000 val R^2: 0.05012\n",
      "lambda 10000.000000, mean cv r^2: 0.042 +- 0.011\n"
     ]
    }
   ],
   "source": [
    "cross_validation_v2(X_location, y, alphas=[0.0001,0.001,0.01, 1, 10, 100, 1000, 10000])"
   ]
  },
  {
   "cell_type": "markdown",
   "metadata": {},
   "source": [
    "Adding location improves the model. Try adding text features using CountVectorizer()"
   ]
  },
  {
   "cell_type": "code",
   "execution_count": 40,
   "metadata": {},
   "outputs": [],
   "source": [
    "def NPL_tranform(X_train_feature, X_val_feature, maxfeature=200):\n",
    "    vectorizer = CountVectorizer(stop_words='english',max_features=maxfeature)\n",
    "    vectorizer.fit(X_train_feature)\n",
    "    train_vector = vectorizer.transform(X_train_feature)\n",
    "    val_vector = vectorizer.transform(X_val_feature)\n",
    "    preffix = X_train_feature.name\n",
    "    #print(preffix)\n",
    "    colnames = [] \n",
    "    for name in vectorizer.get_feature_names():\n",
    "        colnames.append(preffix + '_' + name)\n",
    "    #colnames = vectorizer.get_feature_names()\n",
    "    #print('NPL_tranform', train_vector.shape, val_vector.shape)\n",
    "    return (train_vector.toarray(), val_vector.toarray(), colnames)"
   ]
  },
  {
   "cell_type": "code",
   "execution_count": 41,
   "metadata": {},
   "outputs": [],
   "source": [
    "def cross_validation_NPL(X, y, feature, model_list=None, alphas=None, cv=5, maxfeature=200):\n",
    "    if not alphas:\n",
    "        alphas = [0.001, 0.01, 0.1, 1, 10, 100, 1000]\n",
    "    if not model_list:\n",
    "        model_list = [LinearRegression, Ridge, Lasso]\n",
    "        \n",
    "    kf = KFold(n_splits=cv, shuffle=True)\n",
    "    \n",
    "    if type(X) == pd.core.frame.DataFrame:\n",
    "        x = X.values\n",
    "    \n",
    "    res = defaultdict(list)\n",
    "    i = 0\n",
    "        \n",
    "    for train_ind, val_ind in kf.split(x,y):\n",
    "        i+=1\n",
    "        X_train, y_train = x[train_ind], y.iloc[train_ind]\n",
    "        X_val, y_val = x[val_ind], y.iloc[val_ind]\n",
    "        #(X_train_vector, X_val_vector, colname) = NPL_tranform(X_train[feature], X_val[feature])\n",
    "        X_train_vector, X_val_vector, colname = NPL_tranform(feature.iloc[train_ind], feature.iloc[val_ind])\n",
    "        #print(X_train.shape, X_train_vector.shape,type(X_train), type(X_train_vector.shape) )\n",
    "        X_train_all_feature = np.concatenate((X_train, X_train_vector), axis=1)\n",
    "        X_val_all_feature = np.concatenate((X_val, X_val_vector), axis=1)\n",
    "    \n",
    "        for model in model_list:\n",
    "            #print('model:', model)\n",
    "            if model != LinearRegression:\n",
    "                scaler = StandardScaler()\n",
    "                X_train = scaler.fit_transform(X_train_all_feature)\n",
    "                X_val = scaler.transform(X_val_all_feature)\n",
    "                \n",
    "                for a in alphas:\n",
    "                    _, score = test_model(model, X_train, y_train, X_val, y_val, alpha=a)\n",
    "                    res[model,a].append(score)       \n",
    "            else:\n",
    "                _, score = test_model(model, X_train, y_train, X_val, y_val, alpha=None)\n",
    "                res[model].append(score)\n",
    "\n",
    "    for key in res:\n",
    "        r2 = res[key]\n",
    "        print(key)\n",
    "        print('mean cv r^2: %.3f +- %.3f'%(np.mean(r2),np.std(r2)))\n",
    "        \n",
    "        "
   ]
  },
  {
   "cell_type": "code",
   "execution_count": 42,
   "metadata": {},
   "outputs": [
    {
     "name": "stdout",
     "output_type": "stream",
     "text": [
      "None val R^2: -3774523208125.93408\n",
      "250.0 val R^2: 0.43926\n",
      "388.8888888888889 val R^2: 0.44037\n",
      "527.7777777777778 val R^2: 0.43499\n",
      "666.6666666666666 val R^2: 0.42704\n",
      "805.5555555555555 val R^2: 0.41804\n",
      "944.4444444444445 val R^2: 0.40867\n",
      "1083.3333333333333 val R^2: 0.39926\n",
      "1222.2222222222222 val R^2: 0.39001\n",
      "1361.111111111111 val R^2: 0.38099\n",
      "1500.0 val R^2: 0.37226\n",
      "250.0 val R^2: 0.45863\n",
      "388.8888888888889 val R^2: 0.47902\n",
      "527.7777777777778 val R^2: 0.48349\n",
      "666.6666666666666 val R^2: 0.48145\n",
      "805.5555555555555 val R^2: 0.47517\n",
      "944.4444444444445 val R^2: 0.46747\n",
      "1083.3333333333333 val R^2: 0.45956\n",
      "1222.2222222222222 val R^2: 0.45166\n",
      "1361.111111111111 val R^2: 0.44274\n",
      "1500.0 val R^2: 0.43329\n",
      "None val R^2: -727610884147237.12500\n",
      "250.0 val R^2: 0.37841\n",
      "388.8888888888889 val R^2: 0.38950\n",
      "527.7777777777778 val R^2: 0.39255\n",
      "666.6666666666666 val R^2: 0.39159\n",
      "805.5555555555555 val R^2: 0.38840\n",
      "944.4444444444445 val R^2: 0.38391\n",
      "1083.3333333333333 val R^2: 0.37864\n",
      "1222.2222222222222 val R^2: 0.37292\n",
      "1361.111111111111 val R^2: 0.36695\n",
      "1500.0 val R^2: 0.36086\n",
      "250.0 val R^2: 0.35072\n",
      "388.8888888888889 val R^2: 0.36317\n",
      "527.7777777777778 val R^2: 0.36943\n",
      "666.6666666666666 val R^2: 0.37318\n",
      "805.5555555555555 val R^2: 0.37631\n",
      "944.4444444444445 val R^2: 0.37714\n",
      "1083.3333333333333 val R^2: 0.37665\n",
      "1222.2222222222222 val R^2: 0.37440\n",
      "1361.111111111111 val R^2: 0.37238\n",
      "1500.0 val R^2: 0.36844\n",
      "None val R^2: -375433338051682.06250\n",
      "250.0 val R^2: 0.46592\n",
      "388.8888888888889 val R^2: 0.46554\n",
      "527.7777777777778 val R^2: 0.45935\n",
      "666.6666666666666 val R^2: 0.45078\n",
      "805.5555555555555 val R^2: 0.44121\n",
      "944.4444444444445 val R^2: 0.43130\n",
      "1083.3333333333333 val R^2: 0.42138\n",
      "1222.2222222222222 val R^2: 0.41161\n",
      "1361.111111111111 val R^2: 0.40210\n",
      "1500.0 val R^2: 0.39289\n",
      "250.0 val R^2: 0.46911\n",
      "388.8888888888889 val R^2: 0.48291\n",
      "527.7777777777778 val R^2: 0.48749\n",
      "666.6666666666666 val R^2: 0.48717\n",
      "805.5555555555555 val R^2: 0.48406\n",
      "944.4444444444445 val R^2: 0.47851\n",
      "1083.3333333333333 val R^2: 0.47240\n",
      "1222.2222222222222 val R^2: 0.46470\n",
      "1361.111111111111 val R^2: 0.45596\n",
      "1500.0 val R^2: 0.44612\n",
      "None val R^2: -10447027146618852.00000\n",
      "250.0 val R^2: 0.41321\n",
      "388.8888888888889 val R^2: 0.42183\n",
      "527.7777777777778 val R^2: 0.42191\n",
      "666.6666666666666 val R^2: 0.41814\n",
      "805.5555555555555 val R^2: 0.41243\n",
      "944.4444444444445 val R^2: 0.40573\n",
      "1083.3333333333333 val R^2: 0.39854\n",
      "1222.2222222222222 val R^2: 0.39114\n",
      "1361.111111111111 val R^2: 0.38370\n",
      "1500.0 val R^2: 0.37633\n",
      "250.0 val R^2: 0.39800\n",
      "388.8888888888889 val R^2: 0.41940\n",
      "527.7777777777778 val R^2: 0.42921\n",
      "666.6666666666666 val R^2: 0.43176\n",
      "805.5555555555555 val R^2: 0.43132\n",
      "944.4444444444445 val R^2: 0.42833\n",
      "1083.3333333333333 val R^2: 0.42337\n",
      "1222.2222222222222 val R^2: 0.41722\n",
      "1361.111111111111 val R^2: 0.41016\n",
      "1500.0 val R^2: 0.40204\n",
      "None val R^2: -21889968597385712.00000\n",
      "250.0 val R^2: 0.34668\n",
      "388.8888888888889 val R^2: 0.36533\n",
      "527.7777777777778 val R^2: 0.37264\n",
      "666.6666666666666 val R^2: 0.37424\n",
      "805.5555555555555 val R^2: 0.37267\n",
      "944.4444444444445 val R^2: 0.36924\n",
      "1083.3333333333333 val R^2: 0.36469\n",
      "1222.2222222222222 val R^2: 0.35948\n",
      "1361.111111111111 val R^2: 0.35388\n",
      "1500.0 val R^2: 0.34807\n",
      "250.0 val R^2: 0.33436\n",
      "388.8888888888889 val R^2: 0.36445\n",
      "527.7777777777778 val R^2: 0.38036\n",
      "666.6666666666666 val R^2: 0.39326\n",
      "805.5555555555555 val R^2: 0.39745\n",
      "944.4444444444445 val R^2: 0.39520\n",
      "1083.3333333333333 val R^2: 0.39114\n",
      "1222.2222222222222 val R^2: 0.38566\n",
      "1361.111111111111 val R^2: 0.37911\n",
      "1500.0 val R^2: 0.37350\n",
      "<class 'sklearn.linear_model.base.LinearRegression'>\n",
      "mean cv r^2: -6688762897882322.000 +- 8547324001269214.000\n",
      "(<class 'sklearn.linear_model.ridge.Ridge'>, 250.0)\n",
      "mean cv r^2: 0.409 +- 0.042\n",
      "(<class 'sklearn.linear_model.ridge.Ridge'>, 388.8888888888889)\n",
      "mean cv r^2: 0.417 +- 0.036\n",
      "(<class 'sklearn.linear_model.ridge.Ridge'>, 527.7777777777778)\n",
      "mean cv r^2: 0.416 +- 0.031\n",
      "(<class 'sklearn.linear_model.ridge.Ridge'>, 666.6666666666666)\n",
      "mean cv r^2: 0.412 +- 0.027\n",
      "(<class 'sklearn.linear_model.ridge.Ridge'>, 805.5555555555555)\n",
      "mean cv r^2: 0.407 +- 0.024\n",
      "(<class 'sklearn.linear_model.ridge.Ridge'>, 944.4444444444445)\n",
      "mean cv r^2: 0.400 +- 0.021\n",
      "(<class 'sklearn.linear_model.ridge.Ridge'>, 1083.3333333333333)\n",
      "mean cv r^2: 0.393 +- 0.019\n",
      "(<class 'sklearn.linear_model.ridge.Ridge'>, 1222.2222222222222)\n",
      "mean cv r^2: 0.385 +- 0.018\n",
      "(<class 'sklearn.linear_model.ridge.Ridge'>, 1361.111111111111)\n",
      "mean cv r^2: 0.378 +- 0.016\n",
      "(<class 'sklearn.linear_model.ridge.Ridge'>, 1500.0)\n",
      "mean cv r^2: 0.370 +- 0.015\n",
      "(<class 'sklearn.linear_model.coordinate_descent.Lasso'>, 250.0)\n",
      "mean cv r^2: 0.402 +- 0.055\n",
      "(<class 'sklearn.linear_model.coordinate_descent.Lasso'>, 388.8888888888889)\n",
      "mean cv r^2: 0.422 +- 0.052\n",
      "(<class 'sklearn.linear_model.coordinate_descent.Lasso'>, 527.7777777777778)\n",
      "mean cv r^2: 0.430 +- 0.050\n",
      "(<class 'sklearn.linear_model.coordinate_descent.Lasso'>, 666.6666666666666)\n",
      "mean cv r^2: 0.433 +- 0.046\n",
      "(<class 'sklearn.linear_model.coordinate_descent.Lasso'>, 805.5555555555555)\n",
      "mean cv r^2: 0.433 +- 0.042\n",
      "(<class 'sklearn.linear_model.coordinate_descent.Lasso'>, 944.4444444444445)\n",
      "mean cv r^2: 0.429 +- 0.039\n",
      "(<class 'sklearn.linear_model.coordinate_descent.Lasso'>, 1083.3333333333333)\n",
      "mean cv r^2: 0.425 +- 0.037\n",
      "(<class 'sklearn.linear_model.coordinate_descent.Lasso'>, 1222.2222222222222)\n",
      "mean cv r^2: 0.419 +- 0.035\n",
      "(<class 'sklearn.linear_model.coordinate_descent.Lasso'>, 1361.111111111111)\n",
      "mean cv r^2: 0.412 +- 0.033\n",
      "(<class 'sklearn.linear_model.coordinate_descent.Lasso'>, 1500.0)\n",
      "mean cv r^2: 0.405 +- 0.031\n"
     ]
    }
   ],
   "source": [
    "cross_validation_NPL(X_location, y, X['Skills'], model_list=None, alphas=list(np.linspace(250, 1500, 10)), cv=5, maxfeature=200)"
   ]
  },
  {
   "cell_type": "markdown",
   "metadata": {},
   "source": [
    "Adding Skills further improved the model. Try adding more features."
   ]
  },
  {
   "cell_type": "code",
   "execution_count": 43,
   "metadata": {},
   "outputs": [],
   "source": [
    "def cross_validation_NPL_multiple(X, y, features=None, model_list=None, alphas=None, cv=5, maxfeature=200):\n",
    "    if not alphas:\n",
    "        alphas = [0.001, 0.01, 0.1, 1, 10, 100, 1000]\n",
    "    if not model_list:\n",
    "        model_list = [LinearRegression, Ridge, Lasso]\n",
    "        \n",
    "    kf = KFold(n_splits=cv, shuffle=True)\n",
    "    \n",
    "    if type(X) == pd.core.frame.DataFrame:\n",
    "        x = X.values\n",
    "    \n",
    "    res = defaultdict(list)\n",
    "    model_dict = defaultdict(list)\n",
    "    col_dict = defaultdict(list)\n",
    "    i = 0\n",
    "        \n",
    "    for train_ind, val_ind in kf.split(x,y):\n",
    "        i+=1\n",
    "        X_train, y_train = x[train_ind], y.iloc[train_ind]\n",
    "        X_val, y_val = x[val_ind], y.iloc[val_ind]\n",
    "        col = list(X.columns)\n",
    "        for feature in features:\n",
    "            X_train_vector, X_val_vector, colname = NPL_tranform(feature.iloc[train_ind], feature.iloc[val_ind], maxfeature=maxfeature)\n",
    "        #print(X_train.shape, X_train_vector.shape,type(X_train), type(X_train_vector.shape) )\n",
    "            X_train = np.concatenate((X_train, X_train_vector), axis=1)\n",
    "            X_val = np.concatenate((X_val, X_val_vector), axis=1)\n",
    "            #print(X_train.shape, X_val.shape)\n",
    "            col.extend(colname)\n",
    "    \n",
    "        for model in model_list:\n",
    "            #print('model:', model)\n",
    "            if model != LinearRegression:\n",
    "                scaler = StandardScaler()\n",
    "                X_train = scaler.fit_transform(X_train)\n",
    "                X_val = scaler.transform(X_val)\n",
    "                \n",
    "                for a in alphas:\n",
    "                    lm, score = test_model(model, X_train, y_train, X_val, y_val, alpha=a)\n",
    "                    res[model,a].append(score)  \n",
    "                    model_dict[model,a].append(lm)\n",
    "                    col_dict[model,a].append(col)\n",
    "                    \n",
    "            else:\n",
    "                lm, score = test_model(model, X_train, y_train, X_val, y_val, alpha=None)\n",
    "                res[model].append(score)\n",
    "                model_dict[model].append(lm)\n",
    "                col_dict[model].append(col)\n",
    "\n",
    "    for key in res:\n",
    "        r2 = res[key]\n",
    "        print(key)\n",
    "        print('mean cv r^2: %.3f +- %.3f'%(np.mean(r2),np.std(r2)))\n",
    "    return model_dict, col_dict"
   ]
  },
  {
   "cell_type": "code",
   "execution_count": 44,
   "metadata": {
    "collapsed": true
   },
   "outputs": [
    {
     "name": "stdout",
     "output_type": "stream",
     "text": [
      "None val R^2: -4606.19242\n",
      "10 val R^2: -0.85284\n",
      "100 val R^2: 0.18264\n",
      "500 val R^2: 0.40810\n",
      "750 val R^2: 0.42104\n",
      "1000 val R^2: 0.42078\n"
     ]
    },
    {
     "name": "stderr",
     "output_type": "stream",
     "text": [
      "/anaconda3/lib/python3.6/site-packages/sklearn/linear_model/coordinate_descent.py:491: ConvergenceWarning: Objective did not converge. You might want to increase the number of iterations. Fitting data with very small alpha may cause precision problems.\n",
      "  ConvergenceWarning)\n"
     ]
    },
    {
     "name": "stdout",
     "output_type": "stream",
     "text": [
      "10 val R^2: -1.84580\n",
      "100 val R^2: 0.06726\n",
      "500 val R^2: 0.43170\n",
      "750 val R^2: 0.43551\n",
      "1000 val R^2: 0.43946\n",
      "None val R^2: -1672.50758\n",
      "10 val R^2: -0.17670\n",
      "100 val R^2: 0.31533\n",
      "500 val R^2: 0.36663\n",
      "750 val R^2: 0.35827\n",
      "1000 val R^2: 0.34767\n",
      "10 val R^2: -1.20571\n",
      "100 val R^2: 0.28068\n",
      "500 val R^2: 0.39745\n",
      "750 val R^2: 0.39784\n",
      "1000 val R^2: 0.39414\n",
      "None val R^2: -28276.29130\n",
      "10 val R^2: -0.44323\n",
      "100 val R^2: 0.23408\n",
      "500 val R^2: 0.33795\n",
      "750 val R^2: 0.34273\n",
      "1000 val R^2: 0.34042\n",
      "10 val R^2: -1.07927\n",
      "100 val R^2: 0.14902\n",
      "500 val R^2: 0.40016\n",
      "750 val R^2: 0.40743\n",
      "1000 val R^2: 0.40802\n",
      "None val R^2: -258.66414\n",
      "10 val R^2: -0.66847\n",
      "100 val R^2: 0.21646\n",
      "500 val R^2: 0.38716\n",
      "750 val R^2: 0.40095\n",
      "1000 val R^2: 0.40361\n",
      "10 val R^2: -1.83299\n",
      "100 val R^2: 0.10846\n",
      "500 val R^2: 0.39330\n",
      "750 val R^2: 0.42181\n",
      "1000 val R^2: 0.42635\n",
      "None val R^2: -415.94221\n",
      "10 val R^2: -0.59046\n",
      "100 val R^2: 0.21916\n",
      "500 val R^2: 0.38912\n",
      "750 val R^2: 0.40532\n",
      "1000 val R^2: 0.41012\n",
      "10 val R^2: -1.86531\n",
      "100 val R^2: 0.14403\n",
      "500 val R^2: 0.42342\n",
      "750 val R^2: 0.45521\n",
      "1000 val R^2: 0.46869\n",
      "<class 'sklearn.linear_model.base.LinearRegression'>\n",
      "mean cv r^2: -7045.920 +- 10729.193\n",
      "(<class 'sklearn.linear_model.ridge.Ridge'>, 10)\n",
      "mean cv r^2: -0.546 +- 0.227\n",
      "(<class 'sklearn.linear_model.ridge.Ridge'>, 100)\n",
      "mean cv r^2: 0.234 +- 0.044\n",
      "(<class 'sklearn.linear_model.ridge.Ridge'>, 500)\n",
      "mean cv r^2: 0.378 +- 0.024\n",
      "(<class 'sklearn.linear_model.ridge.Ridge'>, 750)\n",
      "mean cv r^2: 0.386 +- 0.030\n",
      "(<class 'sklearn.linear_model.ridge.Ridge'>, 1000)\n",
      "mean cv r^2: 0.385 +- 0.034\n",
      "(<class 'sklearn.linear_model.coordinate_descent.Lasso'>, 10)\n",
      "mean cv r^2: -1.566 +- 0.348\n",
      "(<class 'sklearn.linear_model.coordinate_descent.Lasso'>, 100)\n",
      "mean cv r^2: 0.150 +- 0.072\n",
      "(<class 'sklearn.linear_model.coordinate_descent.Lasso'>, 500)\n",
      "mean cv r^2: 0.409 +- 0.015\n",
      "(<class 'sklearn.linear_model.coordinate_descent.Lasso'>, 750)\n",
      "mean cv r^2: 0.424 +- 0.020\n",
      "(<class 'sklearn.linear_model.coordinate_descent.Lasso'>, 1000)\n",
      "mean cv r^2: 0.427 +- 0.026\n"
     ]
    }
   ],
   "source": [
    "#add skills and tags\n",
    "models, colname = cross_validation_NPL_multiple(X_location, y, features=[X.Skills, X.tags], model_list=None, \n",
    "                              alphas=[10,100, 500, 750,1000], cv=5, maxfeature=1000)"
   ]
  },
  {
   "cell_type": "code",
   "execution_count": 45,
   "metadata": {
    "collapsed": true
   },
   "outputs": [
    {
     "name": "stdout",
     "output_type": "stream",
     "text": [
      "None val R^2: -50102704324082.98438\n",
      "10 val R^2: 0.08919\n",
      "100 val R^2: 0.43592\n",
      "500 val R^2: 0.51580\n",
      "750 val R^2: 0.51376\n",
      "1000 val R^2: 0.50551\n"
     ]
    },
    {
     "name": "stderr",
     "output_type": "stream",
     "text": [
      "/anaconda3/lib/python3.6/site-packages/sklearn/linear_model/coordinate_descent.py:491: ConvergenceWarning: Objective did not converge. You might want to increase the number of iterations. Fitting data with very small alpha may cause precision problems.\n",
      "  ConvergenceWarning)\n"
     ]
    },
    {
     "name": "stdout",
     "output_type": "stream",
     "text": [
      "10 val R^2: 0.00568\n",
      "100 val R^2: 0.40519\n",
      "500 val R^2: 0.54074\n",
      "750 val R^2: 0.54346\n",
      "1000 val R^2: 0.54017\n",
      "None val R^2: -78.32023\n",
      "10 val R^2: -0.06836\n",
      "100 val R^2: 0.32371\n",
      "500 val R^2: 0.43211\n",
      "750 val R^2: 0.43769\n",
      "1000 val R^2: 0.43551\n",
      "10 val R^2: -0.45359\n",
      "100 val R^2: 0.31412\n",
      "500 val R^2: 0.45797\n",
      "750 val R^2: 0.47992\n",
      "1000 val R^2: 0.48153\n",
      "None val R^2: -32751305399884.57422\n",
      "10 val R^2: -0.17285\n",
      "100 val R^2: 0.41475\n",
      "500 val R^2: 0.51637\n",
      "750 val R^2: 0.51540\n",
      "1000 val R^2: 0.50828\n",
      "10 val R^2: -0.40399\n",
      "100 val R^2: 0.42454\n",
      "500 val R^2: 0.56923\n",
      "750 val R^2: 0.56216\n",
      "1000 val R^2: 0.54211\n",
      "None val R^2: -59.34085\n",
      "10 val R^2: -0.12483\n",
      "100 val R^2: 0.41304\n",
      "500 val R^2: 0.47716\n",
      "750 val R^2: 0.46936\n",
      "1000 val R^2: 0.45931\n",
      "10 val R^2: -0.45817\n",
      "100 val R^2: 0.45340\n",
      "500 val R^2: 0.54435\n",
      "750 val R^2: 0.52964\n",
      "1000 val R^2: 0.50782\n",
      "None val R^2: -1057836336859746.00000\n",
      "10 val R^2: -0.09405\n",
      "100 val R^2: 0.37747\n",
      "500 val R^2: 0.45563\n",
      "750 val R^2: 0.44931\n",
      "1000 val R^2: 0.43919\n",
      "10 val R^2: -0.49426\n",
      "100 val R^2: 0.37697\n",
      "500 val R^2: 0.51973\n",
      "750 val R^2: 0.51397\n",
      "1000 val R^2: 0.49809\n",
      "<class 'sklearn.linear_model.base.LinearRegression'>\n",
      "mean cv r^2: -228138069316770.250 +- 415298868577537.000\n",
      "(<class 'sklearn.linear_model.ridge.Ridge'>, 10)\n",
      "mean cv r^2: -0.074 +- 0.089\n",
      "(<class 'sklearn.linear_model.ridge.Ridge'>, 100)\n",
      "mean cv r^2: 0.393 +- 0.039\n",
      "(<class 'sklearn.linear_model.ridge.Ridge'>, 500)\n",
      "mean cv r^2: 0.479 +- 0.033\n",
      "(<class 'sklearn.linear_model.ridge.Ridge'>, 750)\n",
      "mean cv r^2: 0.477 +- 0.032\n",
      "(<class 'sklearn.linear_model.ridge.Ridge'>, 1000)\n",
      "mean cv r^2: 0.470 +- 0.032\n",
      "(<class 'sklearn.linear_model.coordinate_descent.Lasso'>, 10)\n",
      "mean cv r^2: -0.361 +- 0.186\n",
      "(<class 'sklearn.linear_model.coordinate_descent.Lasso'>, 100)\n",
      "mean cv r^2: 0.395 +- 0.047\n",
      "(<class 'sklearn.linear_model.coordinate_descent.Lasso'>, 500)\n",
      "mean cv r^2: 0.526 +- 0.038\n",
      "(<class 'sklearn.linear_model.coordinate_descent.Lasso'>, 750)\n",
      "mean cv r^2: 0.526 +- 0.028\n",
      "(<class 'sklearn.linear_model.coordinate_descent.Lasso'>, 1000)\n",
      "mean cv r^2: 0.514 +- 0.024\n"
     ]
    }
   ],
   "source": [
    "#add skills, tags and title\n",
    "\n",
    "models, colname = cross_validation_NPL_multiple(X_location, y, features=[X.Skills, X.tags, X.title], model_list=None, \n",
    "                              alphas=[10,100, 500, 750,1000], cv=5, maxfeature=1000)"
   ]
  },
  {
   "cell_type": "code",
   "execution_count": 46,
   "metadata": {
    "collapsed": true
   },
   "outputs": [
    {
     "name": "stdout",
     "output_type": "stream",
     "text": [
      "None val R^2: -0.46359\n",
      "10 val R^2: 0.30059\n",
      "100 val R^2: 0.37888\n",
      "500 val R^2: 0.44369\n",
      "750 val R^2: 0.45362\n",
      "1000 val R^2: 0.45738\n"
     ]
    },
    {
     "name": "stderr",
     "output_type": "stream",
     "text": [
      "/anaconda3/lib/python3.6/site-packages/sklearn/linear_model/coordinate_descent.py:491: ConvergenceWarning: Objective did not converge. You might want to increase the number of iterations. Fitting data with very small alpha may cause precision problems.\n",
      "  ConvergenceWarning)\n"
     ]
    },
    {
     "name": "stdout",
     "output_type": "stream",
     "text": [
      "10 val R^2: 0.24312\n",
      "100 val R^2: 0.40355\n",
      "500 val R^2: 0.48138\n",
      "750 val R^2: 0.48813\n",
      "1000 val R^2: 0.48606\n",
      "None val R^2: -0.17200\n",
      "10 val R^2: 0.45342\n",
      "100 val R^2: 0.51546\n",
      "500 val R^2: 0.54606\n",
      "750 val R^2: 0.54338\n",
      "1000 val R^2: 0.53764\n",
      "10 val R^2: 0.35857\n",
      "100 val R^2: 0.48547\n",
      "500 val R^2: 0.54465\n",
      "750 val R^2: 0.54877\n",
      "1000 val R^2: 0.52942\n",
      "None val R^2: -0.04877\n",
      "10 val R^2: 0.44161\n",
      "100 val R^2: 0.47865\n",
      "500 val R^2: 0.49255\n",
      "750 val R^2: 0.48573\n",
      "1000 val R^2: 0.47737\n",
      "10 val R^2: 0.37593\n",
      "100 val R^2: 0.51244\n",
      "500 val R^2: 0.51933\n",
      "750 val R^2: 0.50167\n",
      "1000 val R^2: 0.47825\n",
      "None val R^2: -0.42865\n",
      "10 val R^2: 0.34427\n",
      "100 val R^2: 0.42859\n",
      "500 val R^2: 0.50525\n",
      "750 val R^2: 0.51505\n",
      "1000 val R^2: 0.51745\n",
      "10 val R^2: 0.23824\n",
      "100 val R^2: 0.39605\n",
      "500 val R^2: 0.53665\n",
      "750 val R^2: 0.55472\n",
      "1000 val R^2: 0.55211\n",
      "None val R^2: -0.40700\n",
      "10 val R^2: 0.36720\n",
      "100 val R^2: 0.42913\n",
      "500 val R^2: 0.49955\n",
      "750 val R^2: 0.51005\n",
      "1000 val R^2: 0.51352\n",
      "10 val R^2: 0.24788\n",
      "100 val R^2: 0.38178\n",
      "500 val R^2: 0.51921\n",
      "750 val R^2: 0.50896\n",
      "1000 val R^2: 0.50106\n",
      "<class 'sklearn.linear_model.base.LinearRegression'>\n",
      "mean cv r^2: -0.304 +- 0.164\n",
      "(<class 'sklearn.linear_model.ridge.Ridge'>, 10)\n",
      "mean cv r^2: 0.381 +- 0.058\n",
      "(<class 'sklearn.linear_model.ridge.Ridge'>, 100)\n",
      "mean cv r^2: 0.446 +- 0.047\n",
      "(<class 'sklearn.linear_model.ridge.Ridge'>, 500)\n",
      "mean cv r^2: 0.497 +- 0.033\n",
      "(<class 'sklearn.linear_model.ridge.Ridge'>, 750)\n",
      "mean cv r^2: 0.502 +- 0.030\n",
      "(<class 'sklearn.linear_model.ridge.Ridge'>, 1000)\n",
      "mean cv r^2: 0.501 +- 0.029\n",
      "(<class 'sklearn.linear_model.coordinate_descent.Lasso'>, 10)\n",
      "mean cv r^2: 0.293 +- 0.061\n",
      "(<class 'sklearn.linear_model.coordinate_descent.Lasso'>, 100)\n",
      "mean cv r^2: 0.436 +- 0.053\n",
      "(<class 'sklearn.linear_model.coordinate_descent.Lasso'>, 500)\n",
      "mean cv r^2: 0.520 +- 0.022\n",
      "(<class 'sklearn.linear_model.coordinate_descent.Lasso'>, 750)\n",
      "mean cv r^2: 0.520 +- 0.026\n",
      "(<class 'sklearn.linear_model.coordinate_descent.Lasso'>, 1000)\n",
      "mean cv r^2: 0.509 +- 0.028\n"
     ]
    }
   ],
   "source": [
    "#add skills and tags, title and job description\n",
    "\n",
    "models, colname = cross_validation_NPL_multiple(X_location, y, features=[X.Skills, X.tags, X.title, X.description], model_list=None, \n",
    "                              alphas=[10,100, 500, 750,1000], cv=5, maxfeature=1000)"
   ]
  },
  {
   "cell_type": "code",
   "execution_count": 47,
   "metadata": {
    "scrolled": true
   },
   "outputs": [
    {
     "name": "stdout",
     "output_type": "stream",
     "text": [
      "None val R^2: -0.03486\n",
      "10 val R^2: 0.37240\n",
      "100 val R^2: 0.41664\n",
      "500 val R^2: 0.45372\n",
      "750 val R^2: 0.45825\n",
      "1000 val R^2: 0.45871\n"
     ]
    },
    {
     "name": "stderr",
     "output_type": "stream",
     "text": [
      "/anaconda3/lib/python3.6/site-packages/sklearn/linear_model/coordinate_descent.py:491: ConvergenceWarning: Objective did not converge. You might want to increase the number of iterations. Fitting data with very small alpha may cause precision problems.\n",
      "  ConvergenceWarning)\n"
     ]
    },
    {
     "name": "stdout",
     "output_type": "stream",
     "text": [
      "10 val R^2: 0.29268\n",
      "100 val R^2: 0.39128\n",
      "500 val R^2: 0.48500\n",
      "750 val R^2: 0.48969\n",
      "1000 val R^2: 0.48514\n",
      "None val R^2: -0.02465\n",
      "10 val R^2: 0.35645\n",
      "100 val R^2: 0.41773\n",
      "500 val R^2: 0.47589\n",
      "750 val R^2: 0.48873\n",
      "1000 val R^2: 0.49564\n",
      "10 val R^2: 0.23686\n",
      "100 val R^2: 0.32755\n",
      "500 val R^2: 0.48551\n",
      "750 val R^2: 0.50212\n",
      "1000 val R^2: 0.49362\n",
      "None val R^2: -0.02477\n",
      "10 val R^2: 0.43321\n",
      "100 val R^2: 0.47113\n",
      "500 val R^2: 0.51087\n",
      "750 val R^2: 0.51682\n",
      "1000 val R^2: 0.51867\n",
      "10 val R^2: 0.28116\n",
      "100 val R^2: 0.38111\n",
      "500 val R^2: 0.50874\n",
      "750 val R^2: 0.52167\n",
      "1000 val R^2: 0.52031\n",
      "None val R^2: 0.15672\n",
      "10 val R^2: 0.56745\n",
      "100 val R^2: 0.58390\n",
      "500 val R^2: 0.59520\n",
      "750 val R^2: 0.59412\n",
      "1000 val R^2: 0.59084\n",
      "10 val R^2: 0.47709\n",
      "100 val R^2: 0.52211\n",
      "500 val R^2: 0.58587\n",
      "750 val R^2: 0.58467\n",
      "1000 val R^2: 0.57009\n",
      "None val R^2: 0.10916\n",
      "10 val R^2: 0.41096\n",
      "100 val R^2: 0.42640\n",
      "500 val R^2: 0.44995\n",
      "750 val R^2: 0.45334\n",
      "1000 val R^2: 0.45362\n",
      "10 val R^2: 0.41614\n",
      "100 val R^2: 0.48315\n",
      "500 val R^2: 0.54711\n",
      "750 val R^2: 0.54543\n",
      "1000 val R^2: 0.53956\n",
      "<class 'sklearn.linear_model.base.LinearRegression'>\n",
      "mean cv r^2: 0.036 +- 0.080\n",
      "(<class 'sklearn.linear_model.ridge.Ridge'>, 10)\n",
      "mean cv r^2: 0.428 +- 0.075\n",
      "(<class 'sklearn.linear_model.ridge.Ridge'>, 100)\n",
      "mean cv r^2: 0.463 +- 0.064\n",
      "(<class 'sklearn.linear_model.ridge.Ridge'>, 500)\n",
      "mean cv r^2: 0.497 +- 0.054\n",
      "(<class 'sklearn.linear_model.ridge.Ridge'>, 750)\n",
      "mean cv r^2: 0.502 +- 0.051\n",
      "(<class 'sklearn.linear_model.ridge.Ridge'>, 1000)\n",
      "mean cv r^2: 0.503 +- 0.050\n",
      "(<class 'sklearn.linear_model.coordinate_descent.Lasso'>, 10)\n",
      "mean cv r^2: 0.341 +- 0.090\n",
      "(<class 'sklearn.linear_model.coordinate_descent.Lasso'>, 100)\n",
      "mean cv r^2: 0.421 +- 0.071\n",
      "(<class 'sklearn.linear_model.coordinate_descent.Lasso'>, 500)\n",
      "mean cv r^2: 0.522 +- 0.039\n",
      "(<class 'sklearn.linear_model.coordinate_descent.Lasso'>, 750)\n",
      "mean cv r^2: 0.529 +- 0.034\n",
      "(<class 'sklearn.linear_model.coordinate_descent.Lasso'>, 1000)\n",
      "mean cv r^2: 0.522 +- 0.031\n"
     ]
    }
   ],
   "source": [
    "#add skills and tags, titel, job description and company product \n",
    "\n",
    "models, colname = cross_validation_NPL_multiple(X_location, y, features=[X.Skills, X.tags, X.title, X.description, X['product']], model_list=None, \n",
    "                              alphas=[10,100, 500, 750,1000], cv=5, maxfeature=1000)"
   ]
  },
  {
   "cell_type": "markdown",
   "metadata": {},
   "source": [
    "Tried refining alpha"
   ]
  },
  {
   "cell_type": "code",
   "execution_count": 48,
   "metadata": {},
   "outputs": [
    {
     "name": "stdout",
     "output_type": "stream",
     "text": [
      "None val R^2: 0.28039\n",
      "500.0 val R^2: 0.56064\n",
      "520.0 val R^2: 0.56110\n",
      "540.0 val R^2: 0.56152\n",
      "560.0 val R^2: 0.56190\n",
      "580.0 val R^2: 0.56224\n",
      "600.0 val R^2: 0.56254\n",
      "620.0 val R^2: 0.56281\n",
      "640.0 val R^2: 0.56305\n",
      "660.0 val R^2: 0.56325\n",
      "680.0 val R^2: 0.56343\n",
      "700.0 val R^2: 0.56359\n",
      "720.0 val R^2: 0.56372\n",
      "740.0 val R^2: 0.56383\n",
      "760.0 val R^2: 0.56391\n",
      "500.0 val R^2: 0.58292\n",
      "520.0 val R^2: 0.58457\n",
      "540.0 val R^2: 0.58572\n",
      "560.0 val R^2: 0.58668\n",
      "580.0 val R^2: 0.58691\n",
      "600.0 val R^2: 0.58697\n",
      "620.0 val R^2: 0.58687\n",
      "640.0 val R^2: 0.58651\n",
      "660.0 val R^2: 0.58608\n",
      "680.0 val R^2: 0.58566\n",
      "700.0 val R^2: 0.58529\n",
      "720.0 val R^2: 0.58467\n",
      "740.0 val R^2: 0.58403\n",
      "760.0 val R^2: 0.58321\n",
      "None val R^2: 0.16184\n",
      "500.0 val R^2: 0.47949\n",
      "520.0 val R^2: 0.47961\n",
      "540.0 val R^2: 0.47971\n",
      "560.0 val R^2: 0.47979\n",
      "580.0 val R^2: 0.47985\n",
      "600.0 val R^2: 0.47988\n",
      "620.0 val R^2: 0.47990\n",
      "640.0 val R^2: 0.47990\n",
      "660.0 val R^2: 0.47988\n",
      "680.0 val R^2: 0.47985\n",
      "700.0 val R^2: 0.47980\n",
      "720.0 val R^2: 0.47974\n",
      "740.0 val R^2: 0.47966\n",
      "760.0 val R^2: 0.47958\n",
      "500.0 val R^2: 0.47467\n",
      "520.0 val R^2: 0.47597\n",
      "540.0 val R^2: 0.47726\n",
      "560.0 val R^2: 0.47835\n",
      "580.0 val R^2: 0.47933\n",
      "600.0 val R^2: 0.48036\n",
      "620.0 val R^2: 0.48177\n",
      "640.0 val R^2: 0.48321\n",
      "660.0 val R^2: 0.48444\n",
      "680.0 val R^2: 0.48550\n",
      "700.0 val R^2: 0.48660\n",
      "720.0 val R^2: 0.48784\n",
      "740.0 val R^2: 0.48905\n",
      "760.0 val R^2: 0.49017\n",
      "None val R^2: -0.19883\n",
      "500.0 val R^2: 0.46363\n",
      "520.0 val R^2: 0.46394\n",
      "540.0 val R^2: 0.46421\n",
      "560.0 val R^2: 0.46446\n",
      "580.0 val R^2: 0.46467\n",
      "600.0 val R^2: 0.46486\n",
      "620.0 val R^2: 0.46502\n",
      "640.0 val R^2: 0.46516\n",
      "660.0 val R^2: 0.46527\n",
      "680.0 val R^2: 0.46537\n",
      "700.0 val R^2: 0.46544\n",
      "720.0 val R^2: 0.46550\n",
      "740.0 val R^2: 0.46554\n",
      "760.0 val R^2: 0.46556\n",
      "500.0 val R^2: 0.49714\n",
      "520.0 val R^2: 0.49883\n",
      "540.0 val R^2: 0.50044\n",
      "560.0 val R^2: 0.50195\n",
      "580.0 val R^2: 0.50351\n",
      "600.0 val R^2: 0.50481\n",
      "620.0 val R^2: 0.50580\n",
      "640.0 val R^2: 0.50638\n",
      "660.0 val R^2: 0.50709\n",
      "680.0 val R^2: 0.50770\n",
      "700.0 val R^2: 0.50802\n",
      "720.0 val R^2: 0.50802\n",
      "740.0 val R^2: 0.50783\n",
      "760.0 val R^2: 0.50806\n",
      "None val R^2: 0.01892\n",
      "500.0 val R^2: 0.57477\n",
      "520.0 val R^2: 0.57576\n",
      "540.0 val R^2: 0.57667\n",
      "560.0 val R^2: 0.57752\n",
      "580.0 val R^2: 0.57831\n",
      "600.0 val R^2: 0.57905\n",
      "620.0 val R^2: 0.57974\n",
      "640.0 val R^2: 0.58037\n",
      "660.0 val R^2: 0.58096\n",
      "680.0 val R^2: 0.58150\n",
      "700.0 val R^2: 0.58201\n",
      "720.0 val R^2: 0.58247\n",
      "740.0 val R^2: 0.58290\n",
      "760.0 val R^2: 0.58329\n",
      "500.0 val R^2: 0.61149\n",
      "520.0 val R^2: 0.61279\n",
      "540.0 val R^2: 0.61397\n",
      "560.0 val R^2: 0.61535\n",
      "580.0 val R^2: 0.61658\n",
      "600.0 val R^2: 0.61807\n",
      "620.0 val R^2: 0.61967\n",
      "640.0 val R^2: 0.62100\n",
      "660.0 val R^2: 0.62190\n",
      "680.0 val R^2: 0.62287\n",
      "700.0 val R^2: 0.62361\n",
      "720.0 val R^2: 0.62433\n",
      "740.0 val R^2: 0.62481\n",
      "760.0 val R^2: 0.62523\n",
      "None val R^2: 0.12451\n",
      "500.0 val R^2: 0.51345\n",
      "520.0 val R^2: 0.51356\n",
      "540.0 val R^2: 0.51363\n",
      "560.0 val R^2: 0.51367\n",
      "580.0 val R^2: 0.51369\n",
      "600.0 val R^2: 0.51368\n",
      "620.0 val R^2: 0.51365\n",
      "640.0 val R^2: 0.51359\n",
      "660.0 val R^2: 0.51352\n",
      "680.0 val R^2: 0.51343\n",
      "700.0 val R^2: 0.51332\n",
      "720.0 val R^2: 0.51319\n",
      "740.0 val R^2: 0.51305\n",
      "760.0 val R^2: 0.51289\n",
      "500.0 val R^2: 0.56503\n",
      "520.0 val R^2: 0.56647\n",
      "540.0 val R^2: 0.56793\n",
      "560.0 val R^2: 0.56923\n",
      "580.0 val R^2: 0.57010\n",
      "600.0 val R^2: 0.57080\n",
      "620.0 val R^2: 0.57094\n",
      "640.0 val R^2: 0.57089\n",
      "660.0 val R^2: 0.57055\n",
      "680.0 val R^2: 0.57008\n",
      "700.0 val R^2: 0.56940\n",
      "720.0 val R^2: 0.56846\n",
      "740.0 val R^2: 0.56731\n",
      "760.0 val R^2: 0.56600\n",
      "<class 'sklearn.linear_model.base.LinearRegression'>\n",
      "mean cv r^2: 0.077 +- 0.161\n",
      "(<class 'sklearn.linear_model.ridge.Ridge'>, 500.0)\n",
      "mean cv r^2: 0.518 +- 0.044\n",
      "(<class 'sklearn.linear_model.ridge.Ridge'>, 520.0)\n",
      "mean cv r^2: 0.519 +- 0.044\n",
      "(<class 'sklearn.linear_model.ridge.Ridge'>, 540.0)\n",
      "mean cv r^2: 0.519 +- 0.044\n",
      "(<class 'sklearn.linear_model.ridge.Ridge'>, 560.0)\n",
      "mean cv r^2: 0.519 +- 0.044\n",
      "(<class 'sklearn.linear_model.ridge.Ridge'>, 580.0)\n",
      "mean cv r^2: 0.520 +- 0.044\n",
      "(<class 'sklearn.linear_model.ridge.Ridge'>, 600.0)\n",
      "mean cv r^2: 0.520 +- 0.045\n",
      "(<class 'sklearn.linear_model.ridge.Ridge'>, 620.0)\n",
      "mean cv r^2: 0.520 +- 0.045\n",
      "(<class 'sklearn.linear_model.ridge.Ridge'>, 640.0)\n",
      "mean cv r^2: 0.520 +- 0.045\n",
      "(<class 'sklearn.linear_model.ridge.Ridge'>, 660.0)\n",
      "mean cv r^2: 0.521 +- 0.045\n",
      "(<class 'sklearn.linear_model.ridge.Ridge'>, 680.0)\n",
      "mean cv r^2: 0.521 +- 0.045\n",
      "(<class 'sklearn.linear_model.ridge.Ridge'>, 700.0)\n",
      "mean cv r^2: 0.521 +- 0.046\n",
      "(<class 'sklearn.linear_model.ridge.Ridge'>, 720.0)\n",
      "mean cv r^2: 0.521 +- 0.046\n",
      "(<class 'sklearn.linear_model.ridge.Ridge'>, 740.0)\n",
      "mean cv r^2: 0.521 +- 0.046\n",
      "(<class 'sklearn.linear_model.ridge.Ridge'>, 760.0)\n",
      "mean cv r^2: 0.521 +- 0.046\n",
      "(<class 'sklearn.linear_model.coordinate_descent.Lasso'>, 500.0)\n",
      "mean cv r^2: 0.546 +- 0.052\n",
      "(<class 'sklearn.linear_model.coordinate_descent.Lasso'>, 520.0)\n",
      "mean cv r^2: 0.548 +- 0.052\n",
      "(<class 'sklearn.linear_model.coordinate_descent.Lasso'>, 540.0)\n",
      "mean cv r^2: 0.549 +- 0.052\n",
      "(<class 'sklearn.linear_model.coordinate_descent.Lasso'>, 560.0)\n",
      "mean cv r^2: 0.550 +- 0.052\n",
      "(<class 'sklearn.linear_model.coordinate_descent.Lasso'>, 580.0)\n",
      "mean cv r^2: 0.551 +- 0.052\n",
      "(<class 'sklearn.linear_model.coordinate_descent.Lasso'>, 600.0)\n",
      "mean cv r^2: 0.552 +- 0.052\n",
      "(<class 'sklearn.linear_model.coordinate_descent.Lasso'>, 620.0)\n",
      "mean cv r^2: 0.553 +- 0.051\n",
      "(<class 'sklearn.linear_model.coordinate_descent.Lasso'>, 640.0)\n",
      "mean cv r^2: 0.554 +- 0.051\n",
      "(<class 'sklearn.linear_model.coordinate_descent.Lasso'>, 660.0)\n",
      "mean cv r^2: 0.554 +- 0.051\n",
      "(<class 'sklearn.linear_model.coordinate_descent.Lasso'>, 680.0)\n",
      "mean cv r^2: 0.554 +- 0.051\n",
      "(<class 'sklearn.linear_model.coordinate_descent.Lasso'>, 700.0)\n",
      "mean cv r^2: 0.555 +- 0.050\n",
      "(<class 'sklearn.linear_model.coordinate_descent.Lasso'>, 720.0)\n",
      "mean cv r^2: 0.555 +- 0.050\n",
      "(<class 'sklearn.linear_model.coordinate_descent.Lasso'>, 740.0)\n",
      "mean cv r^2: 0.555 +- 0.050\n",
      "(<class 'sklearn.linear_model.coordinate_descent.Lasso'>, 760.0)\n",
      "mean cv r^2: 0.555 +- 0.050\n"
     ]
    }
   ],
   "source": [
    "models, colname = cross_validation_NPL_multiple(X_location, y, features=[X.Skills, X.tags, X.title, X.description, X['product']], model_list=None, \n",
    "                              alphas=list(np.linspace(500, 760, 14)), cv=5, maxfeature=1000)"
   ]
  },
  {
   "cell_type": "markdown",
   "metadata": {},
   "source": [
    "#### Final Model: \n",
    "- Lasso\n",
    "- alpha = 660\n",
    "- maxfeature 1000"
   ]
  },
  {
   "cell_type": "code",
   "execution_count": 49,
   "metadata": {},
   "outputs": [],
   "source": [
    "X_holdout_location=df5.loc[X_holdout.index]\n",
    "#features_to_drop = ['Skills', 'currency', 'description',  'name', 'title', 'url_j',  'concept', \n",
    "#                    'product', 'tags']\n",
    "holdout_features = X_holdout_location.copy()\n",
    "X_holdout_location= X_holdout_location.drop(columns=features_to_drop)"
   ]
  },
  {
   "cell_type": "code",
   "execution_count": 50,
   "metadata": {},
   "outputs": [
    {
     "name": "stdout",
     "output_type": "stream",
     "text": [
      "660 val R^2: 0.63895\n",
      "r2: 0.6389528180283528\n"
     ]
    }
   ],
   "source": [
    "col = list(X_location.columns)\n",
    "X_train = X_location\n",
    "X_val = X_holdout_location\n",
    "for feature, val_feature in zip([X.Skills, X.tags, X.title, X.description, X['product']], \n",
    "                                [holdout_features.Skills, holdout_features.tags, holdout_features.title, holdout_features.description, holdout_features['product']]):\n",
    "    X_train_vector, X_test_vector, colname = NPL_tranform(feature, val_feature, maxfeature=1000)\n",
    "    #print(X_train.shape, X_train_vector.shape,type(X_train), type(X_train_vector.shape) )\n",
    "    X_train = np.concatenate((X_train, X_train_vector), axis=1)\n",
    "    X_val = np.concatenate((X_val, X_test_vector), axis=1)\n",
    "    #print(X_train.shape, X_val.shape)\n",
    "    col.extend(colname)\n",
    "        \n",
    "scaler = StandardScaler()\n",
    "X_train = scaler.fit_transform(X_train)\n",
    "X_val = scaler.transform(X_val)\n",
    "lm, score = test_model(Lasso, X_train, y, X_val, y_holdout, alpha=660)\n",
    "\n",
    "print('r2:', score)\n"
   ]
  },
  {
   "cell_type": "code",
   "execution_count": 51,
   "metadata": {},
   "outputs": [
    {
     "data": {
      "text/plain": [
       "24169.118947074403"
      ]
     },
     "execution_count": 51,
     "metadata": {},
     "output_type": "execute_result"
    }
   ],
   "source": [
    "y_pred = lm.predict(X_val)\n",
    "RMSE(y_pred, y_holdout)"
   ]
  },
  {
   "cell_type": "code",
   "execution_count": 52,
   "metadata": {},
   "outputs": [
    {
     "data": {
      "image/png": "[encoded data removed]",
      "text/plain": [
       "<matplotlib.figure.Figure at 0x1a1d6e0160>"
      ]
     },
     "metadata": {},
     "output_type": "display_data"
    }
   ],
   "source": [
    "plt.figure(figsize=(8,6))\n",
    "plt.scatter(y_pred, y_holdout-y_pred, alpha=0.3)\n",
    "plt.plot(y_pred, [0]*len(y_pred), 'r')\n",
    "plt.title('Residual vs Prediction', fontsize=24)\n",
    "plt.xticks(fontsize='large')\n",
    "plt.yticks(fontsize='large')\n",
    "plt.xlabel('Prediction', fontsize='xx-large');"
   ]
  },
  {
   "cell_type": "code",
   "execution_count": 53,
   "metadata": {},
   "outputs": [
    {
     "data": {
      "image/png": "[encoded data removed]",
      "text/plain": [
       "<matplotlib.figure.Figure at 0x1a1c945160>"
      ]
     },
     "metadata": {},
     "output_type": "display_data"
    }
   ],
   "source": [
    "sns.jointplot(y_pred, y_holdout, kind='regplot');"
   ]
  },
  {
   "cell_type": "code",
   "execution_count": 54,
   "metadata": {},
   "outputs": [
    {
     "data": {
      "text/plain": [
       "4284"
      ]
     },
     "execution_count": 54,
     "metadata": {},
     "output_type": "execute_result"
    }
   ],
   "source": [
    "coef_list=[]\n",
    "for i, j in zip(col,lm.coef_ ):\n",
    "    coef_list.append((i,j))\n",
    "len(coef_list)"
   ]
  },
  {
   "cell_type": "code",
   "execution_count": 55,
   "metadata": {},
   "outputs": [
    {
     "data": {
      "text/plain": [
       "549"
      ]
     },
     "execution_count": 55,
     "metadata": {},
     "output_type": "execute_result"
    }
   ],
   "source": [
    "non_zero = [x for x in coef_list if x[1]!= 0.0 ]\n",
    "len(non_zero)"
   ]
  },
  {
   "cell_type": "markdown",
   "metadata": {},
   "source": [
    "Total 4284 features used in the model. 549 Features remained after Lasso. To print the top10 positive and negative features"
   ]
  },
  {
   "cell_type": "code",
   "execution_count": 56,
   "metadata": {},
   "outputs": [
    {
     "data": {
      "text/plain": [
       "[('location_San Francisco', 7929.028430480786),\n",
       " ('location_Palo Alto', 4483.735811396883),\n",
       " ('location_New York City', 3550.300007809017),\n",
       " ('title_senior', 3507.3671000359795),\n",
       " ('experience', 3355.345279848387),\n",
       " ('title_president', 2829.6712535392066),\n",
       " ('title_head', 2549.3906065924807),\n",
       " ('title_vp', 2513.251100309145),\n",
       " ('employees', 2421.0538789033476),\n",
       " ('tags_china', 2365.0076948128385)]"
      ]
     },
     "execution_count": 56,
     "metadata": {},
     "output_type": "execute_result"
    }
   ],
   "source": [
    "sorted(coef_list, key=lambda x: x[1], reverse=True)[:10]"
   ]
  },
  {
   "cell_type": "code",
   "execution_count": 57,
   "metadata": {},
   "outputs": [
    {
     "data": {
      "text/plain": [
       "[('location_Berlin', -3459.270330621442),\n",
       " ('type_Internship', -3415.452485313717),\n",
       " ('title_intern', -3305.026130761517),\n",
       " ('location_Paris', -3020.0477570042717),\n",
       " ('size_1-10', -2677.138785374904),\n",
       " ('title_analyst', -2239.742551552147),\n",
       " ('location_London', -2183.227268711077),\n",
       " ('location_Bengaluru', -2006.162668711753),\n",
       " ('equity_high', -1978.2822536617998),\n",
       " ('location_Bangkok', -1961.4573743327644)]"
      ]
     },
     "execution_count": 57,
     "metadata": {},
     "output_type": "execute_result"
    }
   ],
   "source": [
    "sorted(coef_list, key=lambda x: x[1])[:10]"
   ]
  },
  {
   "cell_type": "code",
   "execution_count": null,
   "metadata": {},
   "outputs": [],
   "source": []
  }
 ],
 "metadata": {
  "kernelspec": {
   "display_name": "Python 3",
   "language": "python",
   "name": "python3"
  },
  "language_info": {
   "codemirror_mode": {
    "name": "ipython",
    "version": 3
   },
   "file_extension": ".py",
   "mimetype": "text/x-python",
   "name": "python",
   "nbconvert_exporter": "python",
   "pygments_lexer": "ipython3",
   "version": "3.6.4"
  }
 },
 "nbformat": 4,
 "nbformat_minor": 2
}
