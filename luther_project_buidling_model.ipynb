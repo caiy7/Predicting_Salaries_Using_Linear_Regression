{
 "cells": [
  {
   "cell_type": "code",
   "execution_count": 37,
   "metadata": {},
   "outputs": [],
   "source": [
    "import pickle\n",
    "import pandas as pd\n",
    "import numpy as np\n",
    "\n",
    "\n",
    "%matplotlib inline\n",
    "import re\n",
    "import matplotlib.pyplot as plt\n",
    "import seaborn as sns\n",
    "from sklearn.linear_model import LinearRegression, Lasso, Ridge\n",
    "from sklearn.model_selection import train_test_split, KFold\n",
    "from sklearn.feature_extraction.text import CountVectorizer\n",
    "from sklearn.preprocessing import StandardScaler, PolynomialFeatures\n",
    "\n",
    "from collections import defaultdict\n",
    "\n"
   ]
  },
  {
   "cell_type": "markdown",
   "metadata": {},
   "source": [
    "Building the model"
   ]
  },
  {
   "cell_type": "markdown",
   "metadata": {},
   "source": [
    "Load test split set"
   ]
  },
  {
   "cell_type": "code",
   "execution_count": 3,
   "metadata": {},
   "outputs": [],
   "source": [
    "with open('split_data.pkl', 'rb') as f:\n",
    "    split_data = pickle.load(f)\n",
    "(X, X_holdout, y, y_holdout) = split_data"
   ]
  },
  {
   "cell_type": "markdown",
   "metadata": {},
   "source": [
    "Get rid of all the NaN"
   ]
  },
  {
   "cell_type": "code",
   "execution_count": 4,
   "metadata": {},
   "outputs": [],
   "source": [
    "X.Skills.fillna('',inplace=True)\n",
    "X_holdout.Skills.fillna('',inplace=True)\n",
    "X['product'].fillna('',inplace=True)\n",
    "X_holdout['product'].fillna('',inplace=True)"
   ]
  },
  {
   "cell_type": "markdown",
   "metadata": {},
   "source": [
    "Make a train validation set for test purpose. Take out 15% for validation"
   ]
  },
  {
   "cell_type": "code",
   "execution_count": 5,
   "metadata": {},
   "outputs": [],
   "source": [
    "X_train, X_val, y_train, y_val = train_test_split(X, y, test_size=0.1765, random_state=21)"
   ]
  },
  {
   "cell_type": "code",
   "execution_count": 6,
   "metadata": {},
   "outputs": [],
   "source": [
    "from sklearn.metrics import mean_squared_error\n",
    "def RMSE(actual, predicted):\n",
    "    return np.sqrt(mean_squared_error(actual,predicted))"
   ]
  },
  {
   "cell_type": "code",
   "execution_count": 7,
   "metadata": {},
   "outputs": [],
   "source": [
    "def test_model(model, X, y, X_val, y_val, alpha=None):\n",
    "    '''test different sklearn models.\n",
    "    '''\n",
    "    if alpha:\n",
    "        lm = model(alpha)\n",
    "    else:\n",
    "        lm = model()\n",
    "    lm.fit(X,y)\n",
    "    print(alpha,  'val R^2: %.5f' % lm.score(X_val, y_val))\n",
    "    return (lm, lm.score(X_val, y_val))"
   ]
  },
  {
   "cell_type": "code",
   "execution_count": 8,
   "metadata": {},
   "outputs": [],
   "source": [
    "def cross_validation_v2(X, y, model_list=None, alphas=None, cv=5):\n",
    "    if not alphas:\n",
    "        alphas = [0.001, 0.01, 0.1, 1, 10, 100, 1000]\n",
    "    if not model_list:\n",
    "        model_list = [LinearRegression, Ridge, Lasso]\n",
    "        \n",
    "    kf = KFold(n_splits=cv, shuffle=True)\n",
    "    \n",
    "    if type(X) == pd.core.frame.DataFrame:\n",
    "        X = X.values\n",
    "\n",
    "    for model in model_list:\n",
    "        print('model:', model)\n",
    "        r2 = []\n",
    "        if model != LinearRegression:\n",
    "            scaler = StandardScaler()\n",
    "            #X_train = scaler.fit_transform(X_train)\n",
    "            #X_val = scaler.transform(X_val)\n",
    "            for a in alphas:\n",
    "                r2 = []\n",
    "                for train_ind, val_ind in kf.split(X,y):\n",
    "                    X_train, y_train = X[train_ind], y.iloc[train_ind]\n",
    "                    X_val, y_val = X[val_ind], y.iloc[val_ind]\n",
    "                    \n",
    "                    scaler = StandardScaler()\n",
    "                    X_train = scaler.fit_transform(X_train)\n",
    "                    X_val = scaler.transform(X_val)\n",
    "                    \n",
    "                    _, score = test_model(model, X_train, y_train, X_val, y_val, alpha=a)\n",
    "                    r2.append(score)\n",
    "                print('lambda %f, mean cv r^2: %.3f +- %.3f'%(a, np.mean(r2),np.std(r2)))\n",
    "        else:       \n",
    "            for train_ind, val_ind in kf.split(X,y):\n",
    "                X_train, y_train = X[train_ind], y.iloc[train_ind]\n",
    "                X_val, y_val = X[val_ind], y.iloc[val_ind]\n",
    "\n",
    "                _, score = test_model(model, X_train, y_train, X_val, y_val, alpha=None)\n",
    "                r2.append(score)\n",
    "            print('mean cv r^2: %.3f +- %.3f'%(np.mean(r2),np.std(r2)))\n",
    "   \n",
    "          "
   ]
  },
  {
   "cell_type": "markdown",
   "metadata": {},
   "source": [
    "#### Try simple linear regression"
   ]
  },
  {
   "cell_type": "code",
   "execution_count": 9,
   "metadata": {},
   "outputs": [],
   "source": [
    "lm_features = ['401k','experience', 'free_food','insurance', 'visa', 'employees', 'investors',\n",
    "       'open_jobs',  'size_', 'size_1-10', 'size_11-50',\n",
    "       'size_201-500', 'size_51-200', 'degree_bs', 'degree_ms', 'degree_phd',\n",
    "       'equity_low', 'equity_high',  'type_Contract',\n",
    "       'type_Full Time', 'type_Internship']"
   ]
  },
  {
   "cell_type": "code",
   "execution_count": 10,
   "metadata": {},
   "outputs": [
    {
     "name": "stdout",
     "output_type": "stream",
     "text": [
      "Linear Regression val R^2: %.3f 0.20378864661161356\n"
     ]
    }
   ],
   "source": [
    "lm = LinearRegression()\n",
    "lm.fit(X_train[lm_features], y_train)\n",
    "print('Linear Regression val R^2: %.3f', lm.score(X_val[lm_features], y_val))"
   ]
  },
  {
   "cell_type": "code",
   "execution_count": 11,
   "metadata": {},
   "outputs": [
    {
     "name": "stdout",
     "output_type": "stream",
     "text": [
      "401k 9451.753644101815\n",
      "experience 4145.921380761541\n",
      "free_food -11517.663121257032\n",
      "insurance 5054.488687769132\n",
      "visa 7682.604603581771\n",
      "employees 820.1254874299684\n",
      "investors 348.42970502343996\n",
      "open_jobs -819.6649758715998\n",
      "size_ -3196.198959631798\n",
      "size_1-10 -7611.644107421838\n",
      "size_11-50 340.29888528425727\n",
      "size_201-500 15447.5711130369\n",
      "size_51-200 -4980.026931267296\n",
      "degree_bs 3948.729276341954\n",
      "degree_ms 8571.76700440337\n",
      "degree_phd 16684.574350458097\n",
      "equity_low -2786.643441728797\n",
      "equity_high -311.2043309123974\n",
      "type_Contract -25587.199732269793\n",
      "type_Full Time -9414.308928208604\n",
      "type_Internship -57283.79565599041\n"
     ]
    }
   ],
   "source": [
    "for i, j in zip(X_train[lm_features].columns, lm.coef_):\n",
    "    print(i, j)"
   ]
  },
  {
   "cell_type": "code",
   "execution_count": 12,
   "metadata": {},
   "outputs": [
    {
     "data": {
      "image/png": "[encoded data removed]",
      "text/plain": [
       "<matplotlib.figure.Figure at 0x10de704a8>"
      ]
     },
     "metadata": {},
     "output_type": "display_data"
    }
   ],
   "source": [
    "y_pred = lm.predict(X_val[lm_features])\n",
    "sns.set()\n",
    "sns.jointplot(y_pred,y_val, kind='regplot');"
   ]
  },
  {
   "cell_type": "code",
   "execution_count": 13,
   "metadata": {},
   "outputs": [
    {
     "data": {
      "image/png": "[encoded data removed]",
      "text/plain": [
       "<matplotlib.figure.Figure at 0x10fdbf748>"
      ]
     },
     "metadata": {},
     "output_type": "display_data"
    }
   ],
   "source": [
    "plt.figure(figsize = (8, 6))\n",
    "plt.scatter(y_pred, y_val-y_pred, alpha=0.3)\n",
    "plt.plot(y_pred, [0]*len(y_pred), 'r')\n",
    "plt.title('Residual vs Prediction', fontsize=24)\n",
    "plt.xticks(fontsize='x-large')\n",
    "plt.yticks(fontsize='x-large')\n",
    "plt.xlabel('Prediction', fontsize='xx-large')\n",
    "plt.ylabel('Residual',fontsize='xx-large');"
   ]
  },
  {
   "cell_type": "code",
   "execution_count": 14,
   "metadata": {},
   "outputs": [
    {
     "name": "stdout",
     "output_type": "stream",
     "text": [
      "34882.799332781986\n"
     ]
    }
   ],
   "source": [
    "print(RMSE(y_val, y_pred))"
   ]
  },
  {
   "cell_type": "markdown",
   "metadata": {},
   "source": [
    "Try to see if regularization help improve the model"
   ]
  },
  {
   "cell_type": "code",
   "execution_count": 15,
   "metadata": {},
   "outputs": [
    {
     "name": "stdout",
     "output_type": "stream",
     "text": [
      "model: <class 'sklearn.linear_model.base.LinearRegression'>\n",
      "None val R^2: 0.21337\n",
      "None val R^2: 0.25046\n",
      "None val R^2: 0.14828\n",
      "None val R^2: 0.21397\n",
      "None val R^2: 0.21966\n",
      "mean cv r^2: 0.209 +- 0.033\n",
      "model: <class 'sklearn.linear_model.ridge.Ridge'>\n",
      "0.01 val R^2: 0.23689\n",
      "0.01 val R^2: 0.13773\n",
      "0.01 val R^2: 0.19845\n",
      "0.01 val R^2: 0.16775\n",
      "0.01 val R^2: 0.28562\n",
      "lambda 0.010000, mean cv r^2: 0.205 +- 0.052\n",
      "0.1 val R^2: 0.18090\n",
      "0.1 val R^2: 0.14950\n",
      "0.1 val R^2: 0.26138\n",
      "0.1 val R^2: 0.26358\n",
      "0.1 val R^2: 0.22585\n",
      "lambda 0.100000, mean cv r^2: 0.216 +- 0.045\n",
      "1 val R^2: 0.16221\n",
      "1 val R^2: 0.23872\n",
      "1 val R^2: 0.24720\n",
      "1 val R^2: 0.20003\n",
      "1 val R^2: 0.21766\n",
      "lambda 1.000000, mean cv r^2: 0.213 +- 0.030\n",
      "10 val R^2: 0.21444\n",
      "10 val R^2: 0.23590\n",
      "10 val R^2: 0.20543\n",
      "10 val R^2: 0.26100\n",
      "10 val R^2: 0.17355\n",
      "lambda 10.000000, mean cv r^2: 0.218 +- 0.029\n",
      "100 val R^2: 0.18052\n",
      "100 val R^2: 0.15567\n",
      "100 val R^2: 0.27931\n",
      "100 val R^2: 0.22723\n",
      "100 val R^2: 0.25918\n",
      "lambda 100.000000, mean cv r^2: 0.220 +- 0.046\n",
      "1000 val R^2: 0.21601\n",
      "1000 val R^2: 0.19154\n",
      "1000 val R^2: 0.16952\n",
      "1000 val R^2: 0.24779\n",
      "1000 val R^2: 0.18356\n",
      "lambda 1000.000000, mean cv r^2: 0.202 +- 0.028\n",
      "model: <class 'sklearn.linear_model.coordinate_descent.Lasso'>\n",
      "0.01 val R^2: 0.23905\n",
      "0.01 val R^2: 0.24035\n",
      "0.01 val R^2: 0.21421\n",
      "0.01 val R^2: 0.20662\n"
     ]
    },
    {
     "name": "stderr",
     "output_type": "stream",
     "text": [
      "/anaconda3/lib/python3.6/site-packages/sklearn/linear_model/coordinate_descent.py:491: ConvergenceWarning: Objective did not converge. You might want to increase the number of iterations. Fitting data with very small alpha may cause precision problems.\n",
      "  ConvergenceWarning)\n"
     ]
    },
    {
     "name": "stdout",
     "output_type": "stream",
     "text": [
      "0.01 val R^2: 0.17423\n",
      "lambda 0.010000, mean cv r^2: 0.215 +- 0.024\n",
      "0.1 val R^2: 0.21976\n",
      "0.1 val R^2: 0.21824\n",
      "0.1 val R^2: 0.22434\n",
      "0.1 val R^2: 0.19561\n",
      "0.1 val R^2: 0.25842\n",
      "lambda 0.100000, mean cv r^2: 0.223 +- 0.020\n",
      "1 val R^2: 0.21270\n",
      "1 val R^2: 0.17510\n",
      "1 val R^2: 0.16358\n",
      "1 val R^2: 0.21313\n",
      "1 val R^2: 0.24051\n",
      "lambda 1.000000, mean cv r^2: 0.201 +- 0.028\n",
      "10 val R^2: 0.19592\n",
      "10 val R^2: 0.18334\n",
      "10 val R^2: 0.26539\n",
      "10 val R^2: 0.25186\n",
      "10 val R^2: 0.14804\n",
      "lambda 10.000000, mean cv r^2: 0.209 +- 0.044\n",
      "100 val R^2: 0.19271\n",
      "100 val R^2: 0.24056\n",
      "100 val R^2: 0.19354\n",
      "100 val R^2: 0.23194\n",
      "100 val R^2: 0.22741\n",
      "lambda 100.000000, mean cv r^2: 0.217 +- 0.020\n",
      "1000 val R^2: 0.20451\n",
      "1000 val R^2: 0.21373\n",
      "1000 val R^2: 0.22221\n",
      "1000 val R^2: 0.22442\n",
      "1000 val R^2: 0.21301\n",
      "lambda 1000.000000, mean cv r^2: 0.216 +- 0.007\n"
     ]
    }
   ],
   "source": [
    "cross_validation_v2(X[lm_features],y, [LinearRegression, Ridge, Lasso], [0.01, 0.1, 1, 10, 100, 1000], cv=5)"
   ]
  },
  {
   "cell_type": "markdown",
   "metadata": {},
   "source": [
    "Regularization doens't improve R2. It seems like that the model is too biased.\n",
    "#### Try log transform of the skewed features"
   ]
  },
  {
   "cell_type": "code",
   "execution_count": 16,
   "metadata": {},
   "outputs": [],
   "source": [
    "def log_transform(df, colname_list):\n",
    "    df_log = df.copy()\n",
    "    for col in colname_list:\n",
    "        colname = col + '_log'\n",
    "        df_log[colname] = np.log(df[col])\n",
    "    df_log.drop(columns = colname_list, inplace=True)   \n",
    "    return df_log"
   ]
  },
  {
   "cell_type": "code",
   "execution_count": 17,
   "metadata": {},
   "outputs": [],
   "source": [
    "X_log = log_transform(X[lm_features], ['employees', 'investors'] )\n",
    "X_log['experience_log'] = np.log(X['experience']+1) #Some values in experience is zero"
   ]
  },
  {
   "cell_type": "code",
   "execution_count": 18,
   "metadata": {},
   "outputs": [
    {
     "name": "stdout",
     "output_type": "stream",
     "text": [
      "model: <class 'sklearn.linear_model.base.LinearRegression'>\n",
      "None val R^2: 0.13062\n",
      "None val R^2: 0.21016\n",
      "None val R^2: 0.33851\n",
      "None val R^2: 0.31601\n",
      "None val R^2: 0.19345\n",
      "mean cv r^2: 0.238 +- 0.078\n",
      "model: <class 'sklearn.linear_model.ridge.Ridge'>\n",
      "0.01 val R^2: 0.27538\n",
      "0.01 val R^2: 0.20232\n",
      "0.01 val R^2: 0.23300\n",
      "0.01 val R^2: 0.29186\n",
      "0.01 val R^2: 0.16558\n",
      "lambda 0.010000, mean cv r^2: 0.234 +- 0.046\n",
      "0.1 val R^2: 0.15604\n",
      "0.1 val R^2: 0.27151\n",
      "0.1 val R^2: 0.27773\n",
      "0.1 val R^2: 0.26661\n",
      "0.1 val R^2: 0.20988\n",
      "lambda 0.100000, mean cv r^2: 0.236 +- 0.047\n",
      "1 val R^2: 0.28807\n",
      "1 val R^2: 0.21197\n",
      "1 val R^2: 0.07651\n",
      "1 val R^2: 0.28322\n",
      "1 val R^2: 0.33046\n",
      "lambda 1.000000, mean cv r^2: 0.238 +- 0.089\n",
      "10 val R^2: 0.19979\n",
      "10 val R^2: 0.17094\n",
      "10 val R^2: 0.25283\n",
      "10 val R^2: 0.25906\n",
      "10 val R^2: 0.27489\n",
      "lambda 10.000000, mean cv r^2: 0.232 +- 0.039\n",
      "100 val R^2: 0.28797\n",
      "100 val R^2: 0.17883\n",
      "100 val R^2: 0.28755\n",
      "100 val R^2: 0.22681\n",
      "100 val R^2: 0.21455\n",
      "lambda 100.000000, mean cv r^2: 0.239 +- 0.043\n",
      "1000 val R^2: 0.20422\n",
      "1000 val R^2: 0.19459\n",
      "1000 val R^2: 0.20661\n",
      "1000 val R^2: 0.22808\n",
      "1000 val R^2: 0.18604\n",
      "lambda 1000.000000, mean cv r^2: 0.204 +- 0.014\n",
      "model: <class 'sklearn.linear_model.coordinate_descent.Lasso'>\n",
      "0.01 val R^2: 0.29374\n",
      "0.01 val R^2: 0.22429\n",
      "0.01 val R^2: 0.26297\n",
      "0.01 val R^2: 0.20981\n",
      "0.01 val R^2: 0.20225\n",
      "lambda 0.010000, mean cv r^2: 0.239 +- 0.035\n"
     ]
    },
    {
     "name": "stderr",
     "output_type": "stream",
     "text": [
      "/anaconda3/lib/python3.6/site-packages/sklearn/linear_model/coordinate_descent.py:491: ConvergenceWarning: Objective did not converge. You might want to increase the number of iterations. Fitting data with very small alpha may cause precision problems.\n",
      "  ConvergenceWarning)\n"
     ]
    },
    {
     "name": "stdout",
     "output_type": "stream",
     "text": [
      "0.1 val R^2: 0.28927\n",
      "0.1 val R^2: 0.17428\n",
      "0.1 val R^2: 0.19620\n",
      "0.1 val R^2: 0.29699\n",
      "0.1 val R^2: 0.22502\n",
      "lambda 0.100000, mean cv r^2: 0.236 +- 0.049\n",
      "1 val R^2: 0.24927\n",
      "1 val R^2: 0.24895\n",
      "1 val R^2: 0.23655\n",
      "1 val R^2: 0.24996\n",
      "1 val R^2: 0.17213\n",
      "lambda 1.000000, mean cv r^2: 0.231 +- 0.030\n",
      "10 val R^2: 0.22686\n",
      "10 val R^2: 0.29715\n",
      "10 val R^2: 0.17519\n",
      "10 val R^2: 0.22199\n",
      "10 val R^2: 0.26305\n",
      "lambda 10.000000, mean cv r^2: 0.237 +- 0.041\n",
      "100 val R^2: 0.19686\n",
      "100 val R^2: 0.18966\n",
      "100 val R^2: 0.20243\n",
      "100 val R^2: 0.31944\n",
      "100 val R^2: 0.29737\n",
      "lambda 100.000000, mean cv r^2: 0.241 +- 0.056\n",
      "1000 val R^2: 0.29005\n",
      "1000 val R^2: 0.21022\n",
      "1000 val R^2: 0.24053\n",
      "1000 val R^2: 0.19688\n",
      "1000 val R^2: 0.18994\n",
      "lambda 1000.000000, mean cv r^2: 0.226 +- 0.037\n"
     ]
    }
   ],
   "source": [
    "cross_validation_v2(X_log,y, [LinearRegression, Ridge, Lasso], [0.01, 0.1, 1, 10, 100, 1000], cv=5)"
   ]
  },
  {
   "cell_type": "markdown",
   "metadata": {},
   "source": [
    "Log Transformation improved the model a little bit, but not impressive.\n",
    "#### Try add interaction to the model"
   ]
  },
  {
   "cell_type": "code",
   "execution_count": 19,
   "metadata": {},
   "outputs": [],
   "source": [
    "interactions = PolynomialFeatures(degree=2, interaction_only=True)\n",
    "X_interaction = interactions.fit_transform(X[lm_features])"
   ]
  },
  {
   "cell_type": "code",
   "execution_count": 20,
   "metadata": {},
   "outputs": [
    {
     "name": "stdout",
     "output_type": "stream",
     "text": [
      "model: <class 'sklearn.linear_model.base.LinearRegression'>\n",
      "None val R^2: 0.01775\n",
      "None val R^2: -43273.35937\n",
      "None val R^2: -0.21771\n",
      "None val R^2: -0.15784\n",
      "None val R^2: -2.99531\n",
      "mean cv r^2: -8655.342 +- 17309.008\n",
      "model: <class 'sklearn.linear_model.ridge.Ridge'>\n",
      "100 val R^2: -5.57447\n",
      "100 val R^2: 0.17461\n",
      "100 val R^2: 0.16354\n",
      "100 val R^2: 0.24282\n",
      "100 val R^2: 0.18999\n",
      "lambda 100.000000, mean cv r^2: -0.961 +- 2.307\n",
      "500 val R^2: 0.15985\n",
      "500 val R^2: 0.27791\n",
      "500 val R^2: 0.01615\n",
      "500 val R^2: 0.31116\n",
      "500 val R^2: -1.97657\n",
      "lambda 500.000000, mean cv r^2: -0.242 +- 0.873\n",
      "600 val R^2: -358.56205\n",
      "600 val R^2: 0.15879\n",
      "600 val R^2: 0.15188\n",
      "600 val R^2: 0.21147\n",
      "600 val R^2: 0.26616\n",
      "lambda 600.000000, mean cv r^2: -71.555 +- 143.504\n",
      "700 val R^2: -283.45826\n",
      "700 val R^2: 0.21576\n",
      "700 val R^2: 0.21156\n",
      "700 val R^2: 0.24835\n",
      "700 val R^2: 0.16495\n",
      "lambda 700.000000, mean cv r^2: -56.524 +- 113.467\n",
      "1000 val R^2: 0.19631\n",
      "1000 val R^2: -1.45028\n",
      "1000 val R^2: 0.24613\n",
      "1000 val R^2: 0.24252\n",
      "1000 val R^2: 0.20286\n",
      "lambda 1000.000000, mean cv r^2: -0.112 +- 0.669\n",
      "2000 val R^2: 0.22141\n",
      "2000 val R^2: 0.23446\n",
      "2000 val R^2: -3.80112\n",
      "2000 val R^2: 0.27531\n",
      "2000 val R^2: 0.17996\n",
      "lambda 2000.000000, mean cv r^2: -0.578 +- 1.612\n",
      "5000 val R^2: -1.44534\n",
      "5000 val R^2: 0.15089\n",
      "5000 val R^2: 0.22009\n",
      "5000 val R^2: 0.24137\n",
      "5000 val R^2: 0.20839\n",
      "lambda 5000.000000, mean cv r^2: -0.125 +- 0.661\n",
      "7000 val R^2: 0.18645\n",
      "7000 val R^2: -0.10078\n",
      "7000 val R^2: 0.21066\n",
      "7000 val R^2: 0.19782\n",
      "7000 val R^2: 0.16406\n",
      "lambda 7000.000000, mean cv r^2: 0.132 +- 0.117\n",
      "model: <class 'sklearn.linear_model.coordinate_descent.Lasso'>\n",
      "100 val R^2: 0.09273\n",
      "100 val R^2: -0.30800\n"
     ]
    },
    {
     "name": "stderr",
     "output_type": "stream",
     "text": [
      "/anaconda3/lib/python3.6/site-packages/sklearn/linear_model/coordinate_descent.py:491: ConvergenceWarning: Objective did not converge. You might want to increase the number of iterations. Fitting data with very small alpha may cause precision problems.\n",
      "  ConvergenceWarning)\n"
     ]
    },
    {
     "name": "stdout",
     "output_type": "stream",
     "text": [
      "100 val R^2: 0.18432\n",
      "100 val R^2: -27.31162\n",
      "100 val R^2: 0.17060\n",
      "lambda 100.000000, mean cv r^2: -5.434 +- 10.940\n",
      "500 val R^2: 0.27560\n",
      "500 val R^2: 0.23145\n",
      "500 val R^2: -0.04319\n",
      "500 val R^2: 0.23057\n",
      "500 val R^2: 0.22046\n",
      "lambda 500.000000, mean cv r^2: 0.183 +- 0.115\n",
      "600 val R^2: 0.13975\n",
      "600 val R^2: 0.28237\n",
      "600 val R^2: 0.23471\n",
      "600 val R^2: 0.19902\n",
      "600 val R^2: -5.68992\n",
      "lambda 600.000000, mean cv r^2: -0.967 +- 2.362\n",
      "700 val R^2: -1.32795\n",
      "700 val R^2: 0.17192\n",
      "700 val R^2: 0.25986\n",
      "700 val R^2: 0.15949\n",
      "700 val R^2: 0.31273\n",
      "lambda 700.000000, mean cv r^2: -0.085 +- 0.624\n",
      "1000 val R^2: 0.26141\n",
      "1000 val R^2: 0.29642\n",
      "1000 val R^2: 0.17897\n",
      "1000 val R^2: 0.23189\n",
      "1000 val R^2: 0.22299\n",
      "lambda 1000.000000, mean cv r^2: 0.238 +- 0.039\n",
      "2000 val R^2: 0.18945\n",
      "2000 val R^2: 0.28083\n",
      "2000 val R^2: 0.23560\n",
      "2000 val R^2: 0.16609\n",
      "2000 val R^2: 0.21286\n",
      "lambda 2000.000000, mean cv r^2: 0.217 +- 0.039\n",
      "5000 val R^2: 0.16542\n",
      "5000 val R^2: 0.18770\n",
      "5000 val R^2: 0.16511\n",
      "5000 val R^2: 0.12609\n",
      "5000 val R^2: 0.14530\n",
      "lambda 5000.000000, mean cv r^2: 0.158 +- 0.021\n",
      "7000 val R^2: 0.10249\n",
      "7000 val R^2: 0.10825\n",
      "7000 val R^2: 0.14110\n",
      "7000 val R^2: 0.11056\n",
      "7000 val R^2: 0.11677\n",
      "lambda 7000.000000, mean cv r^2: 0.116 +- 0.013\n"
     ]
    }
   ],
   "source": [
    "cross_validation_v2(X_interaction, y, [LinearRegression, Ridge, Lasso], [100,500,600,700,1000,2000, 5000,7000], cv=5)"
   ]
  },
  {
   "cell_type": "markdown",
   "metadata": {},
   "source": [
    "Adding interaction doesn't help. \n",
    "#### Try add location as dummy variable"
   ]
  },
  {
   "cell_type": "code",
   "execution_count": 21,
   "metadata": {},
   "outputs": [],
   "source": [
    "with open('df4.pkl', 'rb') as f:\n",
    "    df4 = pickle.load(f)"
   ]
  },
  {
   "cell_type": "code",
   "execution_count": 22,
   "metadata": {},
   "outputs": [
    {
     "data": {
      "text/plain": [
       "(1601, 32)"
      ]
     },
     "execution_count": 22,
     "metadata": {},
     "output_type": "execute_result"
    }
   ],
   "source": [
    "df4.shape"
   ]
  },
  {
   "cell_type": "code",
   "execution_count": 23,
   "metadata": {},
   "outputs": [],
   "source": [
    "location_dummies = df4.location_tag.str.get_dummies(',')"
   ]
  },
  {
   "cell_type": "code",
   "execution_count": 24,
   "metadata": {},
   "outputs": [],
   "source": [
    "df5 = df4.copy()"
   ]
  },
  {
   "cell_type": "code",
   "execution_count": 25,
   "metadata": {},
   "outputs": [],
   "source": [
    "for col in location_dummies.columns:\n",
    "    colname = 'location_' + col\n",
    "    df5[colname] = location_dummies[col] "
   ]
  },
  {
   "cell_type": "code",
   "execution_count": 26,
   "metadata": {},
   "outputs": [],
   "source": [
    "df5 = df5.drop(columns = ['location_tag','average_salary'])\n",
    "\n",
    "X5 = df5.loc[X.index]\n",
    "features_to_drop = ['Skills', 'currency', 'description',  'name', 'title', 'url_j',  'concept', \n",
    "                    'product', 'tags']\n",
    "X_location = X5.drop(columns=features_to_drop)"
   ]
  },
  {
   "cell_type": "code",
   "execution_count": 27,
   "metadata": {},
   "outputs": [],
   "source": [
    "df5.Skills.fillna('', inplace=True)\n",
    "df5['product'].fillna('', inplace=True)"
   ]
  },
  {
   "cell_type": "code",
   "execution_count": 28,
   "metadata": {},
   "outputs": [
    {
     "data": {
      "text/plain": [
       "(1360, 210)"
      ]
     },
     "execution_count": 28,
     "metadata": {},
     "output_type": "execute_result"
    }
   ],
   "source": [
    "X_location.shape"
   ]
  },
  {
   "cell_type": "code",
   "execution_count": 29,
   "metadata": {},
   "outputs": [],
   "source": [
    "with open('df5.pkl', 'wb') as f:\n",
    "    pickle.dump(df5, f)"
   ]
  },
  {
   "cell_type": "code",
   "execution_count": 30,
   "metadata": {},
   "outputs": [
    {
     "name": "stdout",
     "output_type": "stream",
     "text": [
      "model: <class 'sklearn.linear_model.base.LinearRegression'>\n",
      "None val R^2: -144608918486340160.00000\n",
      "None val R^2: -157228639666101920.00000\n",
      "None val R^2: -103189099885961904128.00000\n",
      "None val R^2: -92659003761378704.00000\n",
      "None val R^2: -33895129985975632.00000\n",
      "mean cv r^2: -20723498315572338688.000 +- 41232823794284634112.000\n",
      "model: <class 'sklearn.linear_model.ridge.Ridge'>\n",
      "0.0001 val R^2: 0.32142\n",
      "0.0001 val R^2: 0.34207\n",
      "0.0001 val R^2: 0.26066\n",
      "0.0001 val R^2: 0.38567\n",
      "0.0001 val R^2: 0.41325\n",
      "lambda 0.000100, mean cv r^2: 0.345 +- 0.053\n",
      "0.001 val R^2: 0.46090\n",
      "0.001 val R^2: 0.35536\n",
      "0.001 val R^2: 0.37897\n",
      "0.001 val R^2: 0.19071\n",
      "0.001 val R^2: 0.27015\n",
      "lambda 0.001000, mean cv r^2: 0.331 +- 0.093\n",
      "0.01 val R^2: 0.42589\n",
      "0.01 val R^2: 0.37166\n",
      "0.01 val R^2: 0.37538\n",
      "0.01 val R^2: 0.35948\n",
      "0.01 val R^2: 0.33614\n",
      "lambda 0.010000, mean cv r^2: 0.374 +- 0.029\n",
      "1 val R^2: 0.23540\n",
      "1 val R^2: 0.40334\n",
      "1 val R^2: 0.35315\n",
      "1 val R^2: 0.36903\n",
      "1 val R^2: 0.24362\n",
      "lambda 1.000000, mean cv r^2: 0.321 +- 0.068\n",
      "10 val R^2: 0.35394\n",
      "10 val R^2: 0.17378\n",
      "10 val R^2: 0.48200\n",
      "10 val R^2: 0.28439\n",
      "10 val R^2: 0.42097\n",
      "lambda 10.000000, mean cv r^2: 0.343 +- 0.107\n",
      "100 val R^2: 0.34080\n",
      "100 val R^2: 0.40387\n",
      "100 val R^2: 0.31736\n",
      "100 val R^2: 0.35528\n",
      "100 val R^2: 0.49271\n",
      "lambda 100.000000, mean cv r^2: 0.382 +- 0.062\n",
      "1000 val R^2: 0.37193\n",
      "1000 val R^2: 0.39404\n",
      "1000 val R^2: 0.34497\n",
      "1000 val R^2: 0.36221\n",
      "1000 val R^2: 0.33252\n",
      "lambda 1000.000000, mean cv r^2: 0.361 +- 0.021\n",
      "10000 val R^2: 0.11595\n",
      "10000 val R^2: 0.13053\n",
      "10000 val R^2: 0.12853\n",
      "10000 val R^2: 0.15216\n",
      "10000 val R^2: 0.12788\n",
      "lambda 10000.000000, mean cv r^2: 0.131 +- 0.012\n",
      "model: <class 'sklearn.linear_model.coordinate_descent.Lasso'>\n"
     ]
    },
    {
     "name": "stderr",
     "output_type": "stream",
     "text": [
      "/anaconda3/lib/python3.6/site-packages/sklearn/linear_model/coordinate_descent.py:491: ConvergenceWarning: Objective did not converge. You might want to increase the number of iterations. Fitting data with very small alpha may cause precision problems.\n",
      "  ConvergenceWarning)\n"
     ]
    },
    {
     "name": "stdout",
     "output_type": "stream",
     "text": [
      "0.0001 val R^2: 0.30452\n",
      "0.0001 val R^2: 0.44435\n",
      "0.0001 val R^2: 0.41726\n",
      "0.0001 val R^2: 0.33752\n",
      "0.0001 val R^2: 0.26109\n",
      "lambda 0.000100, mean cv r^2: 0.353 +- 0.069\n",
      "0.001 val R^2: 0.39211\n",
      "0.001 val R^2: 0.36798\n",
      "0.001 val R^2: 0.34173\n",
      "0.001 val R^2: 0.34310\n",
      "0.001 val R^2: 0.28547\n",
      "lambda 0.001000, mean cv r^2: 0.346 +- 0.035\n",
      "0.01 val R^2: 0.43967\n",
      "0.01 val R^2: 0.31041\n",
      "0.01 val R^2: 0.46145\n",
      "0.01 val R^2: 0.37857\n",
      "0.01 val R^2: 0.19253\n",
      "lambda 0.010000, mean cv r^2: 0.357 +- 0.097\n",
      "1 val R^2: 0.35942\n",
      "1 val R^2: 0.27118\n",
      "1 val R^2: 0.37818\n",
      "1 val R^2: 0.26098\n",
      "1 val R^2: 0.45518\n",
      "lambda 1.000000, mean cv r^2: 0.345 +- 0.072\n",
      "10 val R^2: 0.31828\n",
      "10 val R^2: 0.40623\n",
      "10 val R^2: 0.37365\n",
      "10 val R^2: 0.27528\n",
      "10 val R^2: 0.36594\n",
      "lambda 10.000000, mean cv r^2: 0.348 +- 0.046\n",
      "100 val R^2: 0.33383\n",
      "100 val R^2: 0.45306\n",
      "100 val R^2: 0.33021\n",
      "100 val R^2: 0.30823\n",
      "100 val R^2: 0.38185\n",
      "lambda 100.000000, mean cv r^2: 0.361 +- 0.052\n",
      "1000 val R^2: 0.48307\n",
      "1000 val R^2: 0.31373\n",
      "1000 val R^2: 0.40189\n",
      "1000 val R^2: 0.37288\n",
      "1000 val R^2: 0.40026\n",
      "lambda 1000.000000, mean cv r^2: 0.394 +- 0.055\n",
      "10000 val R^2: 0.05662\n",
      "10000 val R^2: 0.03955\n",
      "10000 val R^2: 0.05502\n",
      "10000 val R^2: 0.03904\n",
      "10000 val R^2: 0.05182\n",
      "lambda 10000.000000, mean cv r^2: 0.048 +- 0.008\n"
     ]
    }
   ],
   "source": [
    "cross_validation_v2(X_location, y, alphas=[0.0001,0.001,0.01, 1, 10, 100, 1000, 10000])"
   ]
  },
  {
   "cell_type": "markdown",
   "metadata": {},
   "source": [
    "Adding location improves the model. Try adding text features using CountVectorizer()"
   ]
  },
  {
   "cell_type": "code",
   "execution_count": 31,
   "metadata": {},
   "outputs": [],
   "source": [
    "def NPL_tranform(X_train_feature, X_val_feature, maxfeature=200):\n",
    "    vectorizer = CountVectorizer(stop_words='english',max_features=maxfeature)\n",
    "    vectorizer.fit(X_train_feature)\n",
    "    train_vector = vectorizer.transform(X_train_feature)\n",
    "    val_vector = vectorizer.transform(X_val_feature)\n",
    "    preffix = X_train_feature.name\n",
    "    #print(preffix)\n",
    "    colnames = [] \n",
    "    for name in vectorizer.get_feature_names():\n",
    "        colnames.append(preffix + '_' + name)\n",
    "    #colnames = vectorizer.get_feature_names()\n",
    "    #print('NPL_tranform', train_vector.shape, val_vector.shape)\n",
    "    return (train_vector.toarray(), val_vector.toarray(), colnames)"
   ]
  },
  {
   "cell_type": "code",
   "execution_count": 32,
   "metadata": {},
   "outputs": [],
   "source": [
    "def cross_validation_NPL(X, y, feature, model_list=None, alphas=None, cv=5, maxfeature=200):\n",
    "    if not alphas:\n",
    "        alphas = [0.001, 0.01, 0.1, 1, 10, 100, 1000]\n",
    "    if not model_list:\n",
    "        model_list = [LinearRegression, Ridge, Lasso]\n",
    "        \n",
    "    kf = KFold(n_splits=cv, shuffle=True)\n",
    "    \n",
    "    if type(X) == pd.core.frame.DataFrame:\n",
    "        x = X.values\n",
    "    \n",
    "    res = defaultdict(list)\n",
    "    i = 0\n",
    "        \n",
    "    for train_ind, val_ind in kf.split(x,y):\n",
    "        i+=1\n",
    "        X_train, y_train = x[train_ind], y.iloc[train_ind]\n",
    "        X_val, y_val = x[val_ind], y.iloc[val_ind]\n",
    "        #(X_train_vector, X_val_vector, colname) = NPL_tranform(X_train[feature], X_val[feature])\n",
    "        X_train_vector, X_val_vector, colname = NPL_tranform(feature.iloc[train_ind], feature.iloc[val_ind])\n",
    "        #print(X_train.shape, X_train_vector.shape,type(X_train), type(X_train_vector.shape) )\n",
    "        X_train_all_feature = np.concatenate((X_train, X_train_vector), axis=1)\n",
    "        X_val_all_feature = np.concatenate((X_val, X_val_vector), axis=1)\n",
    "    \n",
    "        for model in model_list:\n",
    "            #print('model:', model)\n",
    "            if model != LinearRegression:\n",
    "                scaler = StandardScaler()\n",
    "                X_train = scaler.fit_transform(X_train_all_feature)\n",
    "                X_val = scaler.transform(X_val_all_feature)\n",
    "                \n",
    "                for a in alphas:\n",
    "                    _, score = test_model(model, X_train, y_train, X_val, y_val, alpha=a)\n",
    "                    res[model,a].append(score)       \n",
    "            else:\n",
    "                _, score = test_model(model, X_train, y_train, X_val, y_val, alpha=None)\n",
    "                res[model].append(score)\n",
    "\n",
    "    for key in res:\n",
    "        r2 = res[key]\n",
    "        print(key)\n",
    "        print('mean cv r^2: %.3f +- %.3f'%(np.mean(r2),np.std(r2)))\n",
    "        \n",
    "        "
   ]
  },
  {
   "cell_type": "code",
   "execution_count": 38,
   "metadata": {},
   "outputs": [
    {
     "name": "stdout",
     "output_type": "stream",
     "text": [
      "None val R^2: -182698362321729847296.00000\n",
      "250.0 val R^2: 0.44352\n",
      "388.8888888888889 val R^2: 0.44699\n",
      "527.7777777777778 val R^2: 0.44417\n",
      "666.6666666666666 val R^2: 0.43866\n",
      "805.5555555555555 val R^2: 0.43187\n",
      "944.4444444444445 val R^2: 0.42447\n",
      "1083.3333333333333 val R^2: 0.41680\n",
      "1222.2222222222222 val R^2: 0.40907\n",
      "1361.111111111111 val R^2: 0.40140\n",
      "1500.0 val R^2: 0.39384\n",
      "250.0 val R^2: 0.44836\n",
      "388.8888888888889 val R^2: 0.45901\n",
      "527.7777777777778 val R^2: 0.46590\n",
      "666.6666666666666 val R^2: 0.47016\n",
      "805.5555555555555 val R^2: 0.47205\n",
      "944.4444444444445 val R^2: 0.47003\n",
      "1083.3333333333333 val R^2: 0.46726\n",
      "1222.2222222222222 val R^2: 0.46280\n",
      "1361.111111111111 val R^2: 0.45801\n",
      "1500.0 val R^2: 0.45207\n",
      "None val R^2: -14705755111321888.00000\n",
      "250.0 val R^2: 0.47112\n",
      "388.8888888888889 val R^2: 0.47765\n",
      "527.7777777777778 val R^2: 0.47484\n",
      "666.6666666666666 val R^2: 0.46801\n",
      "805.5555555555555 val R^2: 0.45934\n",
      "944.4444444444445 val R^2: 0.44984\n",
      "1083.3333333333333 val R^2: 0.44004\n",
      "1222.2222222222222 val R^2: 0.43024\n",
      "1361.111111111111 val R^2: 0.42059\n",
      "1500.0 val R^2: 0.41117\n",
      "250.0 val R^2: 0.46404\n",
      "388.8888888888889 val R^2: 0.48173\n",
      "527.7777777777778 val R^2: 0.48014\n",
      "666.6666666666666 val R^2: 0.48053\n",
      "805.5555555555555 val R^2: 0.47673\n",
      "944.4444444444445 val R^2: 0.47139\n",
      "1083.3333333333333 val R^2: 0.46593\n",
      "1222.2222222222222 val R^2: 0.45865\n",
      "1361.111111111111 val R^2: 0.45085\n",
      "1500.0 val R^2: 0.44331\n",
      "None val R^2: -16106961651550720000.00000\n",
      "250.0 val R^2: 0.32936\n",
      "388.8888888888889 val R^2: 0.33485\n",
      "527.7777777777778 val R^2: 0.33398\n",
      "666.6666666666666 val R^2: 0.33038\n",
      "805.5555555555555 val R^2: 0.32547\n",
      "944.4444444444445 val R^2: 0.31990\n",
      "1083.3333333333333 val R^2: 0.31404\n",
      "1222.2222222222222 val R^2: 0.30807\n",
      "1361.111111111111 val R^2: 0.30211\n",
      "1500.0 val R^2: 0.29622\n",
      "250.0 val R^2: 0.29315\n",
      "388.8888888888889 val R^2: 0.30745\n",
      "527.7777777777778 val R^2: 0.31174\n",
      "666.6666666666666 val R^2: 0.31654\n",
      "805.5555555555555 val R^2: 0.31932\n",
      "944.4444444444445 val R^2: 0.32123\n",
      "1083.3333333333333 val R^2: 0.31788\n",
      "1222.2222222222222 val R^2: 0.31236\n",
      "1361.111111111111 val R^2: 0.30712\n",
      "1500.0 val R^2: 0.30222\n",
      "None val R^2: -1757185300062058.75000\n",
      "250.0 val R^2: 0.39487\n",
      "388.8888888888889 val R^2: 0.39869\n",
      "527.7777777777778 val R^2: 0.39714\n",
      "666.6666666666666 val R^2: 0.39294\n",
      "805.5555555555555 val R^2: 0.38733\n",
      "944.4444444444445 val R^2: 0.38095\n",
      "1083.3333333333333 val R^2: 0.37419\n",
      "1222.2222222222222 val R^2: 0.36725\n",
      "1361.111111111111 val R^2: 0.36027\n",
      "1500.0 val R^2: 0.35336\n",
      "250.0 val R^2: 0.40664\n",
      "388.8888888888889 val R^2: 0.41829\n",
      "527.7777777777778 val R^2: 0.42565\n",
      "666.6666666666666 val R^2: 0.43009\n",
      "805.5555555555555 val R^2: 0.42766\n",
      "944.4444444444445 val R^2: 0.42343\n",
      "1083.3333333333333 val R^2: 0.42028\n",
      "1222.2222222222222 val R^2: 0.41789\n",
      "1361.111111111111 val R^2: 0.41225\n",
      "1500.0 val R^2: 0.40459\n",
      "None val R^2: -16244629337804328.00000\n",
      "250.0 val R^2: 0.42577\n",
      "388.8888888888889 val R^2: 0.42898\n",
      "527.7777777777778 val R^2: 0.42591\n",
      "666.6666666666666 val R^2: 0.42013\n",
      "805.5555555555555 val R^2: 0.41307\n",
      "944.4444444444445 val R^2: 0.40542\n",
      "1083.3333333333333 val R^2: 0.39753\n",
      "1222.2222222222222 val R^2: 0.38961\n",
      "1361.111111111111 val R^2: 0.38177\n",
      "1500.0 val R^2: 0.37409\n",
      "250.0 val R^2: 0.43092\n",
      "388.8888888888889 val R^2: 0.45043\n",
      "527.7777777777778 val R^2: 0.45949\n",
      "666.6666666666666 val R^2: 0.46255\n",
      "805.5555555555555 val R^2: 0.46366\n",
      "944.4444444444445 val R^2: 0.46180\n",
      "1083.3333333333333 val R^2: 0.45698\n",
      "1222.2222222222222 val R^2: 0.45189\n",
      "1361.111111111111 val R^2: 0.44846\n",
      "1500.0 val R^2: 0.44483\n",
      "<class 'sklearn.linear_model.base.LinearRegression'>\n",
      "mean cv r^2: -39767606308605952000.000 +- 71736760080645046272.000\n",
      "(<class 'sklearn.linear_model.ridge.Ridge'>, 250.0)\n",
      "mean cv r^2: 0.413 +- 0.049\n",
      "(<class 'sklearn.linear_model.ridge.Ridge'>, 388.8888888888889)\n",
      "mean cv r^2: 0.417 +- 0.049\n",
      "(<class 'sklearn.linear_model.ridge.Ridge'>, 527.7777777777778)\n",
      "mean cv r^2: 0.415 +- 0.048\n",
      "(<class 'sklearn.linear_model.ridge.Ridge'>, 666.6666666666666)\n",
      "mean cv r^2: 0.410 +- 0.047\n",
      "(<class 'sklearn.linear_model.ridge.Ridge'>, 805.5555555555555)\n",
      "mean cv r^2: 0.403 +- 0.046\n",
      "(<class 'sklearn.linear_model.ridge.Ridge'>, 944.4444444444445)\n",
      "mean cv r^2: 0.396 +- 0.044\n",
      "(<class 'sklearn.linear_model.ridge.Ridge'>, 1083.3333333333333)\n",
      "mean cv r^2: 0.389 +- 0.043\n",
      "(<class 'sklearn.linear_model.ridge.Ridge'>, 1222.2222222222222)\n",
      "mean cv r^2: 0.381 +- 0.042\n",
      "(<class 'sklearn.linear_model.ridge.Ridge'>, 1361.111111111111)\n",
      "mean cv r^2: 0.373 +- 0.041\n",
      "(<class 'sklearn.linear_model.ridge.Ridge'>, 1500.0)\n",
      "mean cv r^2: 0.366 +- 0.040\n",
      "(<class 'sklearn.linear_model.coordinate_descent.Lasso'>, 250.0)\n",
      "mean cv r^2: 0.409 +- 0.061\n",
      "(<class 'sklearn.linear_model.coordinate_descent.Lasso'>, 388.8888888888889)\n",
      "mean cv r^2: 0.423 +- 0.061\n",
      "(<class 'sklearn.linear_model.coordinate_descent.Lasso'>, 527.7777777777778)\n",
      "mean cv r^2: 0.429 +- 0.061\n",
      "(<class 'sklearn.linear_model.coordinate_descent.Lasso'>, 666.6666666666666)\n",
      "mean cv r^2: 0.432 +- 0.060\n",
      "(<class 'sklearn.linear_model.coordinate_descent.Lasso'>, 805.5555555555555)\n",
      "mean cv r^2: 0.432 +- 0.059\n",
      "(<class 'sklearn.linear_model.coordinate_descent.Lasso'>, 944.4444444444445)\n",
      "mean cv r^2: 0.430 +- 0.057\n",
      "(<class 'sklearn.linear_model.coordinate_descent.Lasso'>, 1083.3333333333333)\n",
      "mean cv r^2: 0.426 +- 0.057\n",
      "(<class 'sklearn.linear_model.coordinate_descent.Lasso'>, 1222.2222222222222)\n",
      "mean cv r^2: 0.421 +- 0.056\n",
      "(<class 'sklearn.linear_model.coordinate_descent.Lasso'>, 1361.111111111111)\n",
      "mean cv r^2: 0.415 +- 0.056\n",
      "(<class 'sklearn.linear_model.coordinate_descent.Lasso'>, 1500.0)\n",
      "mean cv r^2: 0.409 +- 0.056\n"
     ]
    }
   ],
   "source": [
    "cross_validation_NPL(X_location, y, X['Skills'], model_list=None, alphas=list(np.linspace(250, 1500, 10)), cv=5, maxfeature=200)"
   ]
  },
  {
   "cell_type": "markdown",
   "metadata": {},
   "source": [
    "Adding Skills further improved the model. Try adding more features."
   ]
  },
  {
   "cell_type": "code",
   "execution_count": 39,
   "metadata": {},
   "outputs": [],
   "source": [
    "def cross_validation_NPL_multiple(X, y, features=None, model_list=None, alphas=None, cv=5, maxfeature=200):\n",
    "    if not alphas:\n",
    "        alphas = [0.001, 0.01, 0.1, 1, 10, 100, 1000]\n",
    "    if not model_list:\n",
    "        model_list = [LinearRegression, Ridge, Lasso]\n",
    "        \n",
    "    kf = KFold(n_splits=cv, shuffle=True)\n",
    "    \n",
    "    if type(X) == pd.core.frame.DataFrame:\n",
    "        x = X.values\n",
    "    \n",
    "    res = defaultdict(list)\n",
    "    model_dict = defaultdict(list)\n",
    "    col_dict = defaultdict(list)\n",
    "    i = 0\n",
    "        \n",
    "    for train_ind, val_ind in kf.split(x,y):\n",
    "        i+=1\n",
    "        X_train, y_train = x[train_ind], y.iloc[train_ind]\n",
    "        X_val, y_val = x[val_ind], y.iloc[val_ind]\n",
    "        col = list(X.columns)\n",
    "        for feature in features:\n",
    "            X_train_vector, X_val_vector, colname = NPL_tranform(feature.iloc[train_ind], feature.iloc[val_ind], maxfeature=maxfeature)\n",
    "        #print(X_train.shape, X_train_vector.shape,type(X_train), type(X_train_vector.shape) )\n",
    "            X_train = np.concatenate((X_train, X_train_vector), axis=1)\n",
    "            X_val = np.concatenate((X_val, X_val_vector), axis=1)\n",
    "            #print(X_train.shape, X_val.shape)\n",
    "            col.extend(colname)\n",
    "    \n",
    "        for model in model_list:\n",
    "            #print('model:', model)\n",
    "            if model != LinearRegression:\n",
    "                scaler = StandardScaler()\n",
    "                X_train = scaler.fit_transform(X_train)\n",
    "                X_val = scaler.transform(X_val)\n",
    "                \n",
    "                for a in alphas:\n",
    "                    lm, score = test_model(model, X_train, y_train, X_val, y_val, alpha=a)\n",
    "                    res[model,a].append(score)  \n",
    "                    model_dict[model,a].append(lm)\n",
    "                    col_dict[model,a].append(col)\n",
    "                    \n",
    "            else:\n",
    "                lm, score = test_model(model, X_train, y_train, X_val, y_val, alpha=None)\n",
    "                res[model].append(score)\n",
    "                model_dict[model].append(lm)\n",
    "                col_dict[model].append(col)\n",
    "\n",
    "    for key in res:\n",
    "        r2 = res[key]\n",
    "        print(key)\n",
    "        print('mean cv r^2: %.3f +- %.3f'%(np.mean(r2),np.std(r2)))\n",
    "    return model_dict, col_dict"
   ]
  },
  {
   "cell_type": "code",
   "execution_count": 40,
   "metadata": {
    "scrolled": true
   },
   "outputs": [
    {
     "name": "stdout",
     "output_type": "stream",
     "text": [
      "None val R^2: -21.23835\n",
      "10 val R^2: -0.17956\n",
      "100 val R^2: 0.33109\n",
      "500 val R^2: 0.45482\n",
      "750 val R^2: 0.45738\n",
      "1000 val R^2: 0.45191\n"
     ]
    },
    {
     "name": "stderr",
     "output_type": "stream",
     "text": [
      "/anaconda3/lib/python3.6/site-packages/sklearn/linear_model/coordinate_descent.py:491: ConvergenceWarning: Objective did not converge. You might want to increase the number of iterations. Fitting data with very small alpha may cause precision problems.\n",
      "  ConvergenceWarning)\n"
     ]
    },
    {
     "name": "stdout",
     "output_type": "stream",
     "text": [
      "10 val R^2: -0.58048\n",
      "100 val R^2: 0.28815\n",
      "500 val R^2: 0.49859\n",
      "750 val R^2: 0.51592\n",
      "1000 val R^2: 0.51507\n",
      "None val R^2: -19.81950\n",
      "10 val R^2: -0.16520\n",
      "100 val R^2: 0.31546\n",
      "500 val R^2: 0.41734\n",
      "750 val R^2: 0.41905\n",
      "1000 val R^2: 0.41447\n",
      "10 val R^2: -0.54698\n",
      "100 val R^2: 0.26901\n",
      "500 val R^2: 0.43581\n",
      "750 val R^2: 0.46232\n",
      "1000 val R^2: 0.47290\n",
      "None val R^2: -113.53031\n",
      "10 val R^2: -0.09574\n",
      "100 val R^2: 0.30941\n",
      "500 val R^2: 0.42051\n",
      "750 val R^2: 0.42323\n",
      "1000 val R^2: 0.41855\n",
      "10 val R^2: -0.36013\n",
      "100 val R^2: 0.22684\n",
      "500 val R^2: 0.39671\n",
      "750 val R^2: 0.41273\n",
      "1000 val R^2: 0.40816\n",
      "None val R^2: -20.58757\n",
      "10 val R^2: -0.01839\n",
      "100 val R^2: 0.40358\n",
      "500 val R^2: 0.46445\n",
      "750 val R^2: 0.45369\n",
      "1000 val R^2: 0.44020\n",
      "10 val R^2: -0.35571\n",
      "100 val R^2: 0.38865\n",
      "500 val R^2: 0.52007\n",
      "750 val R^2: 0.50923\n",
      "1000 val R^2: 0.48703\n",
      "None val R^2: -29.36187\n",
      "10 val R^2: -0.09787\n",
      "100 val R^2: 0.47450\n",
      "500 val R^2: 0.53123\n",
      "750 val R^2: 0.52127\n",
      "1000 val R^2: 0.50781\n",
      "10 val R^2: -1.25385\n",
      "100 val R^2: 0.42031\n",
      "500 val R^2: 0.53485\n",
      "750 val R^2: 0.52820\n",
      "1000 val R^2: 0.51303\n",
      "<class 'sklearn.linear_model.base.LinearRegression'>\n",
      "mean cv r^2: -40.908 +- 36.474\n",
      "(<class 'sklearn.linear_model.ridge.Ridge'>, 10)\n",
      "mean cv r^2: -0.111 +- 0.058\n",
      "(<class 'sklearn.linear_model.ridge.Ridge'>, 100)\n",
      "mean cv r^2: 0.367 +- 0.063\n",
      "(<class 'sklearn.linear_model.ridge.Ridge'>, 500)\n",
      "mean cv r^2: 0.458 +- 0.041\n",
      "(<class 'sklearn.linear_model.ridge.Ridge'>, 750)\n",
      "mean cv r^2: 0.455 +- 0.037\n",
      "(<class 'sklearn.linear_model.ridge.Ridge'>, 1000)\n",
      "mean cv r^2: 0.447 +- 0.034\n",
      "(<class 'sklearn.linear_model.coordinate_descent.Lasso'>, 10)\n",
      "mean cv r^2: -0.619 +- 0.330\n",
      "(<class 'sklearn.linear_model.coordinate_descent.Lasso'>, 100)\n",
      "mean cv r^2: 0.319 +- 0.074\n",
      "(<class 'sklearn.linear_model.coordinate_descent.Lasso'>, 500)\n",
      "mean cv r^2: 0.477 +- 0.053\n",
      "(<class 'sklearn.linear_model.coordinate_descent.Lasso'>, 750)\n",
      "mean cv r^2: 0.486 +- 0.043\n",
      "(<class 'sklearn.linear_model.coordinate_descent.Lasso'>, 1000)\n",
      "mean cv r^2: 0.479 +- 0.039\n"
     ]
    }
   ],
   "source": [
    "#add skills and tags\n",
    "models, colname = cross_validation_NPL_multiple(X_location, y, features=[X.Skills, X.title], model_list=None, \n",
    "                              alphas=[10,100, 500, 750,1000], cv=5, maxfeature=1000)"
   ]
  },
  {
   "cell_type": "code",
   "execution_count": 41,
   "metadata": {
    "scrolled": true
   },
   "outputs": [
    {
     "name": "stdout",
     "output_type": "stream",
     "text": [
      "None val R^2: -0.37289\n",
      "10 val R^2: 0.38091\n",
      "100 val R^2: 0.47885\n",
      "500 val R^2: 0.51325\n",
      "750 val R^2: 0.51096\n",
      "1000 val R^2: 0.50586\n"
     ]
    },
    {
     "name": "stderr",
     "output_type": "stream",
     "text": [
      "/anaconda3/lib/python3.6/site-packages/sklearn/linear_model/coordinate_descent.py:491: ConvergenceWarning: Objective did not converge. You might want to increase the number of iterations. Fitting data with very small alpha may cause precision problems.\n",
      "  ConvergenceWarning)\n"
     ]
    },
    {
     "name": "stdout",
     "output_type": "stream",
     "text": [
      "10 val R^2: 0.26527\n",
      "100 val R^2: 0.42821\n",
      "500 val R^2: 0.51231\n",
      "750 val R^2: 0.51159\n",
      "1000 val R^2: 0.50722\n",
      "None val R^2: -0.50236\n",
      "10 val R^2: 0.32222\n",
      "100 val R^2: 0.44960\n",
      "500 val R^2: 0.53674\n",
      "750 val R^2: 0.54465\n",
      "1000 val R^2: 0.54462\n",
      "10 val R^2: 0.21656\n",
      "100 val R^2: 0.43979\n",
      "500 val R^2: 0.54813\n",
      "750 val R^2: 0.55795\n",
      "1000 val R^2: 0.54664\n",
      "None val R^2: -0.60135\n",
      "10 val R^2: 0.24107\n",
      "100 val R^2: 0.38138\n",
      "500 val R^2: 0.49263\n",
      "750 val R^2: 0.50623\n",
      "1000 val R^2: 0.51059\n",
      "10 val R^2: 0.04026\n",
      "100 val R^2: 0.35346\n",
      "500 val R^2: 0.52464\n",
      "750 val R^2: 0.54534\n",
      "1000 val R^2: 0.53856\n",
      "None val R^2: -0.50496\n",
      "10 val R^2: 0.20906\n",
      "100 val R^2: 0.33435\n",
      "500 val R^2: 0.41884\n",
      "750 val R^2: 0.42682\n",
      "1000 val R^2: 0.42734\n",
      "10 val R^2: 0.02892\n",
      "100 val R^2: 0.31399\n",
      "500 val R^2: 0.47215\n",
      "750 val R^2: 0.47198\n",
      "1000 val R^2: 0.46185\n",
      "None val R^2: -0.79979\n",
      "10 val R^2: 0.15697\n",
      "100 val R^2: 0.32727\n",
      "500 val R^2: 0.44774\n",
      "750 val R^2: 0.46299\n",
      "1000 val R^2: 0.46864\n",
      "10 val R^2: -0.15202\n",
      "100 val R^2: 0.18280\n",
      "500 val R^2: 0.36689\n",
      "750 val R^2: 0.39442\n",
      "1000 val R^2: 0.41593\n",
      "<class 'sklearn.linear_model.base.LinearRegression'>\n",
      "mean cv r^2: -0.556 +- 0.142\n",
      "(<class 'sklearn.linear_model.ridge.Ridge'>, 10)\n",
      "mean cv r^2: 0.262 +- 0.080\n",
      "(<class 'sklearn.linear_model.ridge.Ridge'>, 100)\n",
      "mean cv r^2: 0.394 +- 0.061\n",
      "(<class 'sklearn.linear_model.ridge.Ridge'>, 500)\n",
      "mean cv r^2: 0.482 +- 0.043\n",
      "(<class 'sklearn.linear_model.ridge.Ridge'>, 750)\n",
      "mean cv r^2: 0.490 +- 0.041\n",
      "(<class 'sklearn.linear_model.ridge.Ridge'>, 1000)\n",
      "mean cv r^2: 0.491 +- 0.040\n",
      "(<class 'sklearn.linear_model.coordinate_descent.Lasso'>, 10)\n",
      "mean cv r^2: 0.080 +- 0.149\n",
      "(<class 'sklearn.linear_model.coordinate_descent.Lasso'>, 100)\n",
      "mean cv r^2: 0.344 +- 0.093\n",
      "(<class 'sklearn.linear_model.coordinate_descent.Lasso'>, 500)\n",
      "mean cv r^2: 0.485 +- 0.064\n",
      "(<class 'sklearn.linear_model.coordinate_descent.Lasso'>, 750)\n",
      "mean cv r^2: 0.496 +- 0.059\n",
      "(<class 'sklearn.linear_model.coordinate_descent.Lasso'>, 1000)\n",
      "mean cv r^2: 0.494 +- 0.049\n"
     ]
    }
   ],
   "source": [
    "#add skills, tags and title\n",
    "\n",
    "models, colname = cross_validation_NPL_multiple(X_location, y, features=[X.Skills, X.title, X.description], model_list=None, \n",
    "                              alphas=[10,100, 500, 750,1000], cv=5, maxfeature=1000)"
   ]
  },
  {
   "cell_type": "code",
   "execution_count": 42,
   "metadata": {
    "scrolled": true
   },
   "outputs": [
    {
     "name": "stdout",
     "output_type": "stream",
     "text": [
      "None val R^2: -0.10355\n",
      "10 val R^2: 0.39681\n",
      "100 val R^2: 0.46529\n",
      "500 val R^2: 0.51449\n",
      "750 val R^2: 0.51777\n",
      "1000 val R^2: 0.51619\n"
     ]
    },
    {
     "name": "stderr",
     "output_type": "stream",
     "text": [
      "/anaconda3/lib/python3.6/site-packages/sklearn/linear_model/coordinate_descent.py:491: ConvergenceWarning: Objective did not converge. You might want to increase the number of iterations. Fitting data with very small alpha may cause precision problems.\n",
      "  ConvergenceWarning)\n"
     ]
    },
    {
     "name": "stdout",
     "output_type": "stream",
     "text": [
      "10 val R^2: 0.38994\n",
      "100 val R^2: 0.46710\n",
      "500 val R^2: 0.53880\n",
      "750 val R^2: 0.54079\n",
      "1000 val R^2: 0.53496\n",
      "None val R^2: -0.21775\n",
      "10 val R^2: 0.30506\n",
      "100 val R^2: 0.39218\n",
      "500 val R^2: 0.47896\n",
      "750 val R^2: 0.49134\n",
      "1000 val R^2: 0.49533\n",
      "10 val R^2: 0.39041\n",
      "100 val R^2: 0.49394\n",
      "500 val R^2: 0.55119\n",
      "750 val R^2: 0.54303\n",
      "1000 val R^2: 0.53650\n",
      "None val R^2: -0.07407\n",
      "10 val R^2: 0.42782\n",
      "100 val R^2: 0.49424\n",
      "500 val R^2: 0.53700\n",
      "750 val R^2: 0.53538\n",
      "1000 val R^2: 0.52964\n",
      "10 val R^2: 0.33894\n",
      "100 val R^2: 0.44703\n",
      "500 val R^2: 0.54525\n",
      "750 val R^2: 0.54074\n",
      "1000 val R^2: 0.52612\n",
      "None val R^2: -0.36841\n",
      "10 val R^2: 0.41077\n",
      "100 val R^2: 0.46488\n",
      "500 val R^2: 0.51828\n",
      "750 val R^2: 0.52475\n",
      "1000 val R^2: 0.52543\n",
      "10 val R^2: 0.29948\n",
      "100 val R^2: 0.42890\n",
      "500 val R^2: 0.46980\n",
      "750 val R^2: 0.48430\n",
      "1000 val R^2: 0.48493\n",
      "None val R^2: -0.38583\n",
      "10 val R^2: 0.34611\n",
      "100 val R^2: 0.39937\n",
      "500 val R^2: 0.44877\n",
      "750 val R^2: 0.45554\n",
      "1000 val R^2: 0.45747\n",
      "10 val R^2: 0.31145\n",
      "100 val R^2: 0.42561\n",
      "500 val R^2: 0.49512\n",
      "750 val R^2: 0.50154\n",
      "1000 val R^2: 0.49909\n",
      "<class 'sklearn.linear_model.base.LinearRegression'>\n",
      "mean cv r^2: -0.230 +- 0.130\n",
      "(<class 'sklearn.linear_model.ridge.Ridge'>, 10)\n",
      "mean cv r^2: 0.377 +- 0.045\n",
      "(<class 'sklearn.linear_model.ridge.Ridge'>, 100)\n",
      "mean cv r^2: 0.443 +- 0.040\n",
      "(<class 'sklearn.linear_model.ridge.Ridge'>, 500)\n",
      "mean cv r^2: 0.499 +- 0.032\n",
      "(<class 'sklearn.linear_model.ridge.Ridge'>, 750)\n",
      "mean cv r^2: 0.505 +- 0.029\n",
      "(<class 'sklearn.linear_model.ridge.Ridge'>, 1000)\n",
      "mean cv r^2: 0.505 +- 0.026\n",
      "(<class 'sklearn.linear_model.coordinate_descent.Lasso'>, 10)\n",
      "mean cv r^2: 0.346 +- 0.038\n",
      "(<class 'sklearn.linear_model.coordinate_descent.Lasso'>, 100)\n",
      "mean cv r^2: 0.453 +- 0.025\n",
      "(<class 'sklearn.linear_model.coordinate_descent.Lasso'>, 500)\n",
      "mean cv r^2: 0.520 +- 0.032\n",
      "(<class 'sklearn.linear_model.coordinate_descent.Lasso'>, 750)\n",
      "mean cv r^2: 0.522 +- 0.024\n",
      "(<class 'sklearn.linear_model.coordinate_descent.Lasso'>, 1000)\n",
      "mean cv r^2: 0.516 +- 0.021\n"
     ]
    }
   ],
   "source": [
    "#add skills and tags, title and job description\n",
    "\n",
    "models, colname = cross_validation_NPL_multiple(X_location, y, features=[X.Skills, X.title, X.description, X.tags], model_list=None, \n",
    "                              alphas=[10,100, 500, 750,1000], cv=5, maxfeature=1000)"
   ]
  },
  {
   "cell_type": "code",
   "execution_count": 43,
   "metadata": {
    "scrolled": true
   },
   "outputs": [
    {
     "name": "stdout",
     "output_type": "stream",
     "text": [
      "None val R^2: 0.18224\n",
      "10 val R^2: 0.48376\n",
      "100 val R^2: 0.51012\n",
      "500 val R^2: 0.52978\n",
      "750 val R^2: 0.52855\n",
      "1000 val R^2: 0.52499\n"
     ]
    },
    {
     "name": "stderr",
     "output_type": "stream",
     "text": [
      "/anaconda3/lib/python3.6/site-packages/sklearn/linear_model/coordinate_descent.py:491: ConvergenceWarning: Objective did not converge. You might want to increase the number of iterations. Fitting data with very small alpha may cause precision problems.\n",
      "  ConvergenceWarning)\n"
     ]
    },
    {
     "name": "stdout",
     "output_type": "stream",
     "text": [
      "10 val R^2: 0.33567\n",
      "100 val R^2: 0.43925\n",
      "500 val R^2: 0.50178\n",
      "750 val R^2: 0.51950\n",
      "1000 val R^2: 0.52437\n",
      "None val R^2: 0.24712\n",
      "10 val R^2: 0.50611\n",
      "100 val R^2: 0.52037\n",
      "500 val R^2: 0.54287\n",
      "750 val R^2: 0.54371\n",
      "1000 val R^2: 0.54155\n",
      "10 val R^2: 0.45115\n",
      "100 val R^2: 0.50911\n",
      "500 val R^2: 0.53693\n",
      "750 val R^2: 0.52763\n",
      "1000 val R^2: 0.51314\n",
      "None val R^2: 0.06766\n",
      "10 val R^2: 0.49973\n",
      "100 val R^2: 0.53975\n",
      "500 val R^2: 0.58550\n",
      "750 val R^2: 0.59307\n",
      "1000 val R^2: 0.59545\n",
      "10 val R^2: 0.38661\n",
      "100 val R^2: 0.48252\n",
      "500 val R^2: 0.60963\n",
      "750 val R^2: 0.62244\n",
      "1000 val R^2: 0.62318\n",
      "None val R^2: 0.04022\n",
      "10 val R^2: 0.42165\n",
      "100 val R^2: 0.45598\n",
      "500 val R^2: 0.48792\n",
      "750 val R^2: 0.49234\n",
      "1000 val R^2: 0.49330\n",
      "10 val R^2: 0.36714\n",
      "100 val R^2: 0.47421\n",
      "500 val R^2: 0.53157\n",
      "750 val R^2: 0.52494\n",
      "1000 val R^2: 0.50173\n",
      "None val R^2: 0.07592\n",
      "10 val R^2: 0.44650\n",
      "100 val R^2: 0.46238\n",
      "500 val R^2: 0.47770\n",
      "750 val R^2: 0.47939\n",
      "1000 val R^2: 0.47883\n",
      "10 val R^2: 0.37188\n",
      "100 val R^2: 0.45269\n",
      "500 val R^2: 0.52285\n",
      "750 val R^2: 0.52261\n",
      "1000 val R^2: 0.52247\n",
      "<class 'sklearn.linear_model.base.LinearRegression'>\n",
      "mean cv r^2: 0.123 +- 0.079\n",
      "(<class 'sklearn.linear_model.ridge.Ridge'>, 10)\n",
      "mean cv r^2: 0.472 +- 0.032\n",
      "(<class 'sklearn.linear_model.ridge.Ridge'>, 100)\n",
      "mean cv r^2: 0.498 +- 0.033\n",
      "(<class 'sklearn.linear_model.ridge.Ridge'>, 500)\n",
      "mean cv r^2: 0.525 +- 0.039\n",
      "(<class 'sklearn.linear_model.ridge.Ridge'>, 750)\n",
      "mean cv r^2: 0.527 +- 0.040\n",
      "(<class 'sklearn.linear_model.ridge.Ridge'>, 1000)\n",
      "mean cv r^2: 0.527 +- 0.041\n",
      "(<class 'sklearn.linear_model.coordinate_descent.Lasso'>, 10)\n",
      "mean cv r^2: 0.382 +- 0.038\n",
      "(<class 'sklearn.linear_model.coordinate_descent.Lasso'>, 100)\n",
      "mean cv r^2: 0.472 +- 0.024\n",
      "(<class 'sklearn.linear_model.coordinate_descent.Lasso'>, 500)\n",
      "mean cv r^2: 0.541 +- 0.037\n",
      "(<class 'sklearn.linear_model.coordinate_descent.Lasso'>, 750)\n",
      "mean cv r^2: 0.543 +- 0.040\n",
      "(<class 'sklearn.linear_model.coordinate_descent.Lasso'>, 1000)\n",
      "mean cv r^2: 0.537 +- 0.044\n"
     ]
    }
   ],
   "source": [
    "#add skills and tags, titel, job description and company product \n",
    "\n",
    "models, colname = cross_validation_NPL_multiple(X_location, y, features=[X.Skills,  X.title, X.description, X.tags,X['product']], model_list=None, \n",
    "                              alphas=[10,100, 500, 750,1000], cv=5, maxfeature=1000)"
   ]
  },
  {
   "cell_type": "markdown",
   "metadata": {},
   "source": [
    "Tried refining alpha"
   ]
  },
  {
   "cell_type": "code",
   "execution_count": 48,
   "metadata": {},
   "outputs": [
    {
     "name": "stdout",
     "output_type": "stream",
     "text": [
      "None val R^2: 0.28039\n",
      "500.0 val R^2: 0.56064\n",
      "520.0 val R^2: 0.56110\n",
      "540.0 val R^2: 0.56152\n",
      "560.0 val R^2: 0.56190\n",
      "580.0 val R^2: 0.56224\n",
      "600.0 val R^2: 0.56254\n",
      "620.0 val R^2: 0.56281\n",
      "640.0 val R^2: 0.56305\n",
      "660.0 val R^2: 0.56325\n",
      "680.0 val R^2: 0.56343\n",
      "700.0 val R^2: 0.56359\n",
      "720.0 val R^2: 0.56372\n",
      "740.0 val R^2: 0.56383\n",
      "760.0 val R^2: 0.56391\n",
      "500.0 val R^2: 0.58292\n",
      "520.0 val R^2: 0.58457\n",
      "540.0 val R^2: 0.58572\n",
      "560.0 val R^2: 0.58668\n",
      "580.0 val R^2: 0.58691\n",
      "600.0 val R^2: 0.58697\n",
      "620.0 val R^2: 0.58687\n",
      "640.0 val R^2: 0.58651\n",
      "660.0 val R^2: 0.58608\n",
      "680.0 val R^2: 0.58566\n",
      "700.0 val R^2: 0.58529\n",
      "720.0 val R^2: 0.58467\n",
      "740.0 val R^2: 0.58403\n",
      "760.0 val R^2: 0.58321\n",
      "None val R^2: 0.16184\n",
      "500.0 val R^2: 0.47949\n",
      "520.0 val R^2: 0.47961\n",
      "540.0 val R^2: 0.47971\n",
      "560.0 val R^2: 0.47979\n",
      "580.0 val R^2: 0.47985\n",
      "600.0 val R^2: 0.47988\n",
      "620.0 val R^2: 0.47990\n",
      "640.0 val R^2: 0.47990\n",
      "660.0 val R^2: 0.47988\n",
      "680.0 val R^2: 0.47985\n",
      "700.0 val R^2: 0.47980\n",
      "720.0 val R^2: 0.47974\n",
      "740.0 val R^2: 0.47966\n",
      "760.0 val R^2: 0.47958\n",
      "500.0 val R^2: 0.47467\n",
      "520.0 val R^2: 0.47597\n",
      "540.0 val R^2: 0.47726\n",
      "560.0 val R^2: 0.47835\n",
      "580.0 val R^2: 0.47933\n",
      "600.0 val R^2: 0.48036\n",
      "620.0 val R^2: 0.48177\n",
      "640.0 val R^2: 0.48321\n",
      "660.0 val R^2: 0.48444\n",
      "680.0 val R^2: 0.48550\n",
      "700.0 val R^2: 0.48660\n",
      "720.0 val R^2: 0.48784\n",
      "740.0 val R^2: 0.48905\n",
      "760.0 val R^2: 0.49017\n",
      "None val R^2: -0.19883\n",
      "500.0 val R^2: 0.46363\n",
      "520.0 val R^2: 0.46394\n",
      "540.0 val R^2: 0.46421\n",
      "560.0 val R^2: 0.46446\n",
      "580.0 val R^2: 0.46467\n",
      "600.0 val R^2: 0.46486\n",
      "620.0 val R^2: 0.46502\n",
      "640.0 val R^2: 0.46516\n",
      "660.0 val R^2: 0.46527\n",
      "680.0 val R^2: 0.46537\n",
      "700.0 val R^2: 0.46544\n",
      "720.0 val R^2: 0.46550\n",
      "740.0 val R^2: 0.46554\n",
      "760.0 val R^2: 0.46556\n",
      "500.0 val R^2: 0.49714\n",
      "520.0 val R^2: 0.49883\n",
      "540.0 val R^2: 0.50044\n",
      "560.0 val R^2: 0.50195\n",
      "580.0 val R^2: 0.50351\n",
      "600.0 val R^2: 0.50481\n",
      "620.0 val R^2: 0.50580\n",
      "640.0 val R^2: 0.50638\n",
      "660.0 val R^2: 0.50709\n",
      "680.0 val R^2: 0.50770\n",
      "700.0 val R^2: 0.50802\n",
      "720.0 val R^2: 0.50802\n",
      "740.0 val R^2: 0.50783\n",
      "760.0 val R^2: 0.50806\n",
      "None val R^2: 0.01892\n",
      "500.0 val R^2: 0.57477\n",
      "520.0 val R^2: 0.57576\n",
      "540.0 val R^2: 0.57667\n",
      "560.0 val R^2: 0.57752\n",
      "580.0 val R^2: 0.57831\n",
      "600.0 val R^2: 0.57905\n",
      "620.0 val R^2: 0.57974\n",
      "640.0 val R^2: 0.58037\n",
      "660.0 val R^2: 0.58096\n",
      "680.0 val R^2: 0.58150\n",
      "700.0 val R^2: 0.58201\n",
      "720.0 val R^2: 0.58247\n",
      "740.0 val R^2: 0.58290\n",
      "760.0 val R^2: 0.58329\n",
      "500.0 val R^2: 0.61149\n",
      "520.0 val R^2: 0.61279\n",
      "540.0 val R^2: 0.61397\n",
      "560.0 val R^2: 0.61535\n",
      "580.0 val R^2: 0.61658\n",
      "600.0 val R^2: 0.61807\n",
      "620.0 val R^2: 0.61967\n",
      "640.0 val R^2: 0.62100\n",
      "660.0 val R^2: 0.62190\n",
      "680.0 val R^2: 0.62287\n",
      "700.0 val R^2: 0.62361\n",
      "720.0 val R^2: 0.62433\n",
      "740.0 val R^2: 0.62481\n",
      "760.0 val R^2: 0.62523\n",
      "None val R^2: 0.12451\n",
      "500.0 val R^2: 0.51345\n",
      "520.0 val R^2: 0.51356\n",
      "540.0 val R^2: 0.51363\n",
      "560.0 val R^2: 0.51367\n",
      "580.0 val R^2: 0.51369\n",
      "600.0 val R^2: 0.51368\n",
      "620.0 val R^2: 0.51365\n",
      "640.0 val R^2: 0.51359\n",
      "660.0 val R^2: 0.51352\n",
      "680.0 val R^2: 0.51343\n",
      "700.0 val R^2: 0.51332\n",
      "720.0 val R^2: 0.51319\n",
      "740.0 val R^2: 0.51305\n",
      "760.0 val R^2: 0.51289\n",
      "500.0 val R^2: 0.56503\n",
      "520.0 val R^2: 0.56647\n",
      "540.0 val R^2: 0.56793\n",
      "560.0 val R^2: 0.56923\n",
      "580.0 val R^2: 0.57010\n",
      "600.0 val R^2: 0.57080\n",
      "620.0 val R^2: 0.57094\n",
      "640.0 val R^2: 0.57089\n",
      "660.0 val R^2: 0.57055\n",
      "680.0 val R^2: 0.57008\n",
      "700.0 val R^2: 0.56940\n",
      "720.0 val R^2: 0.56846\n",
      "740.0 val R^2: 0.56731\n",
      "760.0 val R^2: 0.56600\n",
      "<class 'sklearn.linear_model.base.LinearRegression'>\n",
      "mean cv r^2: 0.077 +- 0.161\n",
      "(<class 'sklearn.linear_model.ridge.Ridge'>, 500.0)\n",
      "mean cv r^2: 0.518 +- 0.044\n",
      "(<class 'sklearn.linear_model.ridge.Ridge'>, 520.0)\n",
      "mean cv r^2: 0.519 +- 0.044\n",
      "(<class 'sklearn.linear_model.ridge.Ridge'>, 540.0)\n",
      "mean cv r^2: 0.519 +- 0.044\n",
      "(<class 'sklearn.linear_model.ridge.Ridge'>, 560.0)\n",
      "mean cv r^2: 0.519 +- 0.044\n",
      "(<class 'sklearn.linear_model.ridge.Ridge'>, 580.0)\n",
      "mean cv r^2: 0.520 +- 0.044\n",
      "(<class 'sklearn.linear_model.ridge.Ridge'>, 600.0)\n",
      "mean cv r^2: 0.520 +- 0.045\n",
      "(<class 'sklearn.linear_model.ridge.Ridge'>, 620.0)\n",
      "mean cv r^2: 0.520 +- 0.045\n",
      "(<class 'sklearn.linear_model.ridge.Ridge'>, 640.0)\n",
      "mean cv r^2: 0.520 +- 0.045\n",
      "(<class 'sklearn.linear_model.ridge.Ridge'>, 660.0)\n",
      "mean cv r^2: 0.521 +- 0.045\n",
      "(<class 'sklearn.linear_model.ridge.Ridge'>, 680.0)\n",
      "mean cv r^2: 0.521 +- 0.045\n",
      "(<class 'sklearn.linear_model.ridge.Ridge'>, 700.0)\n",
      "mean cv r^2: 0.521 +- 0.046\n",
      "(<class 'sklearn.linear_model.ridge.Ridge'>, 720.0)\n",
      "mean cv r^2: 0.521 +- 0.046\n",
      "(<class 'sklearn.linear_model.ridge.Ridge'>, 740.0)\n",
      "mean cv r^2: 0.521 +- 0.046\n",
      "(<class 'sklearn.linear_model.ridge.Ridge'>, 760.0)\n",
      "mean cv r^2: 0.521 +- 0.046\n",
      "(<class 'sklearn.linear_model.coordinate_descent.Lasso'>, 500.0)\n",
      "mean cv r^2: 0.546 +- 0.052\n",
      "(<class 'sklearn.linear_model.coordinate_descent.Lasso'>, 520.0)\n",
      "mean cv r^2: 0.548 +- 0.052\n",
      "(<class 'sklearn.linear_model.coordinate_descent.Lasso'>, 540.0)\n",
      "mean cv r^2: 0.549 +- 0.052\n",
      "(<class 'sklearn.linear_model.coordinate_descent.Lasso'>, 560.0)\n",
      "mean cv r^2: 0.550 +- 0.052\n",
      "(<class 'sklearn.linear_model.coordinate_descent.Lasso'>, 580.0)\n",
      "mean cv r^2: 0.551 +- 0.052\n",
      "(<class 'sklearn.linear_model.coordinate_descent.Lasso'>, 600.0)\n",
      "mean cv r^2: 0.552 +- 0.052\n",
      "(<class 'sklearn.linear_model.coordinate_descent.Lasso'>, 620.0)\n",
      "mean cv r^2: 0.553 +- 0.051\n",
      "(<class 'sklearn.linear_model.coordinate_descent.Lasso'>, 640.0)\n",
      "mean cv r^2: 0.554 +- 0.051\n",
      "(<class 'sklearn.linear_model.coordinate_descent.Lasso'>, 660.0)\n",
      "mean cv r^2: 0.554 +- 0.051\n",
      "(<class 'sklearn.linear_model.coordinate_descent.Lasso'>, 680.0)\n",
      "mean cv r^2: 0.554 +- 0.051\n",
      "(<class 'sklearn.linear_model.coordinate_descent.Lasso'>, 700.0)\n",
      "mean cv r^2: 0.555 +- 0.050\n",
      "(<class 'sklearn.linear_model.coordinate_descent.Lasso'>, 720.0)\n",
      "mean cv r^2: 0.555 +- 0.050\n",
      "(<class 'sklearn.linear_model.coordinate_descent.Lasso'>, 740.0)\n",
      "mean cv r^2: 0.555 +- 0.050\n",
      "(<class 'sklearn.linear_model.coordinate_descent.Lasso'>, 760.0)\n",
      "mean cv r^2: 0.555 +- 0.050\n"
     ]
    }
   ],
   "source": [
    "models, colname = cross_validation_NPL_multiple(X_location, y, features=[X.Skills, X.tags, X.title, X.description, X['product']], model_list=None, \n",
    "                              alphas=list(np.linspace(500, 760, 14)), cv=5, maxfeature=1000)"
   ]
  },
  {
   "cell_type": "markdown",
   "metadata": {},
   "source": [
    "#### Final Model: \n",
    "- Lasso\n",
    "- alpha = 660\n",
    "- maxfeature 1000"
   ]
  },
  {
   "cell_type": "code",
   "execution_count": 49,
   "metadata": {},
   "outputs": [],
   "source": [
    "X_holdout_location=df5.loc[X_holdout.index]\n",
    "#features_to_drop = ['Skills', 'currency', 'description',  'name', 'title', 'url_j',  'concept', \n",
    "#                    'product', 'tags']\n",
    "holdout_features = X_holdout_location.copy()\n",
    "X_holdout_location= X_holdout_location.drop(columns=features_to_drop)"
   ]
  },
  {
   "cell_type": "code",
   "execution_count": 50,
   "metadata": {},
   "outputs": [
    {
     "name": "stdout",
     "output_type": "stream",
     "text": [
      "660 val R^2: 0.63895\n",
      "r2: 0.6389528180283528\n"
     ]
    }
   ],
   "source": [
    "col = list(X_location.columns)\n",
    "X_train = X_location\n",
    "X_val = X_holdout_location\n",
    "for feature, val_feature in zip([X.Skills, X.tags, X.title, X.description, X['product']], \n",
    "                                [holdout_features.Skills, holdout_features.tags, holdout_features.title, holdout_features.description, holdout_features['product']]):\n",
    "    X_train_vector, X_test_vector, colname = NPL_tranform(feature, val_feature, maxfeature=1000)\n",
    "    #print(X_train.shape, X_train_vector.shape,type(X_train), type(X_train_vector.shape) )\n",
    "    X_train = np.concatenate((X_train, X_train_vector), axis=1)\n",
    "    X_val = np.concatenate((X_val, X_test_vector), axis=1)\n",
    "    #print(X_train.shape, X_val.shape)\n",
    "    col.extend(colname)\n",
    "        \n",
    "scaler = StandardScaler()\n",
    "X_train = scaler.fit_transform(X_train)\n",
    "X_val = scaler.transform(X_val)\n",
    "lm, score = test_model(Lasso, X_train, y, X_val, y_holdout, alpha=660)\n",
    "\n",
    "print('r2:', score)\n"
   ]
  },
  {
   "cell_type": "code",
   "execution_count": 51,
   "metadata": {},
   "outputs": [
    {
     "data": {
      "text/plain": [
       "24169.118947074403"
      ]
     },
     "execution_count": 51,
     "metadata": {},
     "output_type": "execute_result"
    }
   ],
   "source": [
    "y_pred = lm.predict(X_val)\n",
    "RMSE(y_pred, y_holdout)"
   ]
  },
  {
   "cell_type": "code",
   "execution_count": 52,
   "metadata": {},
   "outputs": [
    {
     "data": {
      "image/png": "[encoded data removed]",
      "text/plain": [
       "<matplotlib.figure.Figure at 0x1a1d6e0160>"
      ]
     },
     "metadata": {},
     "output_type": "display_data"
    }
   ],
   "source": [
    "plt.figure(figsize=(8,6))\n",
    "plt.scatter(y_pred, y_holdout-y_pred, alpha=0.3)\n",
    "plt.plot(y_pred, [0]*len(y_pred), 'r')\n",
    "plt.title('Residual vs Prediction', fontsize=24)\n",
    "plt.xticks(fontsize='large')\n",
    "plt.yticks(fontsize='large')\n",
    "plt.xlabel('Prediction', fontsize='xx-large');"
   ]
  },
  {
   "cell_type": "code",
   "execution_count": 53,
   "metadata": {},
   "outputs": [
    {
     "data": {
      "image/png": "[encoded data removed]",
      "text/plain": [
       "<matplotlib.figure.Figure at 0x1a1c945160>"
      ]
     },
     "metadata": {},
     "output_type": "display_data"
    }
   ],
   "source": [
    "sns.jointplot(y_pred, y_holdout, kind='regplot');"
   ]
  },
  {
   "cell_type": "code",
   "execution_count": 54,
   "metadata": {},
   "outputs": [
    {
     "data": {
      "text/plain": [
       "4284"
      ]
     },
     "execution_count": 54,
     "metadata": {},
     "output_type": "execute_result"
    }
   ],
   "source": [
    "coef_list=[]\n",
    "for i, j in zip(col,lm.coef_ ):\n",
    "    coef_list.append((i,j))\n",
    "len(coef_list)"
   ]
  },
  {
   "cell_type": "code",
   "execution_count": 55,
   "metadata": {},
   "outputs": [
    {
     "data": {
      "text/plain": [
       "549"
      ]
     },
     "execution_count": 55,
     "metadata": {},
     "output_type": "execute_result"
    }
   ],
   "source": [
    "non_zero = [x for x in coef_list if x[1]!= 0.0 ]\n",
    "len(non_zero)"
   ]
  },
  {
   "cell_type": "markdown",
   "metadata": {},
   "source": [
    "Total 4284 features used in the model. 549 Features remained after Lasso. To print the top10 positive and negative features"
   ]
  },
  {
   "cell_type": "code",
   "execution_count": 56,
   "metadata": {},
   "outputs": [
    {
     "data": {
      "text/plain": [
       "[('location_San Francisco', 7929.028430480786),\n",
       " ('location_Palo Alto', 4483.735811396883),\n",
       " ('location_New York City', 3550.300007809017),\n",
       " ('title_senior', 3507.3671000359795),\n",
       " ('experience', 3355.345279848387),\n",
       " ('title_president', 2829.6712535392066),\n",
       " ('title_head', 2549.3906065924807),\n",
       " ('title_vp', 2513.251100309145),\n",
       " ('employees', 2421.0538789033476),\n",
       " ('tags_china', 2365.0076948128385)]"
      ]
     },
     "execution_count": 56,
     "metadata": {},
     "output_type": "execute_result"
    }
   ],
   "source": [
    "sorted(coef_list, key=lambda x: x[1], reverse=True)[:10]"
   ]
  },
  {
   "cell_type": "code",
   "execution_count": 57,
   "metadata": {},
   "outputs": [
    {
     "data": {
      "text/plain": [
       "[('location_Berlin', -3459.270330621442),\n",
       " ('type_Internship', -3415.452485313717),\n",
       " ('title_intern', -3305.026130761517),\n",
       " ('location_Paris', -3020.0477570042717),\n",
       " ('size_1-10', -2677.138785374904),\n",
       " ('title_analyst', -2239.742551552147),\n",
       " ('location_London', -2183.227268711077),\n",
       " ('location_Bengaluru', -2006.162668711753),\n",
       " ('equity_high', -1978.2822536617998),\n",
       " ('location_Bangkok', -1961.4573743327644)]"
      ]
     },
     "execution_count": 57,
     "metadata": {},
     "output_type": "execute_result"
    }
   ],
   "source": [
    "sorted(coef_list, key=lambda x: x[1])[:10]"
   ]
  },
  {
   "cell_type": "code",
   "execution_count": null,
   "metadata": {},
   "outputs": [],
   "source": []
  }
 ],
 "metadata": {
  "kernelspec": {
   "display_name": "Python 3",
   "language": "python",
   "name": "python3"
  },
  "language_info": {
   "codemirror_mode": {
    "name": "ipython",
    "version": 3
   },
   "file_extension": ".py",
   "mimetype": "text/x-python",
   "name": "python",
   "nbconvert_exporter": "python",
   "pygments_lexer": "ipython3",
   "version": "3.6.4"
  }
 },
 "nbformat": 4,
 "nbformat_minor": 2
}
